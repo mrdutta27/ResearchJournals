{
 "cells": [
  {
   "cell_type": "markdown",
   "metadata": {},
   "source": [
    "# NTD Event Thermal Modeling"
   ]
  },
  {
   "cell_type": "markdown",
   "metadata": {},
   "source": [
    "## Thermal Model"
   ]
  },
  {
   "cell_type": "markdown",
   "metadata": {},
   "source": [
    "![title](images/vivekthermalmodel.png)"
   ]
  },
  {
   "cell_type": "markdown",
   "metadata": {},
   "source": [
    "### Temperature-Independent Power Conservation Equations: NTD Event"
   ]
  },
  {
   "cell_type": "markdown",
   "metadata": {},
   "source": [
    "$\\textrm{Phonon: } C_{\\textrm{Phonon}} \\frac{dT_{\\textrm{Phonon}}}{dt} + K_{\\textrm{NTD Gold Wire}}(T_{\\textrm{Phonon}}-T_{\\textrm{Sink}}) - K_{\\textrm{NTD Glue}} (T_{\\textrm{TeO}_2} - T_{\\textrm{Phonon}}) - K_{\\textrm{E-P Coupling}} (T_{\\textrm{Electron}} - T_{\\textrm{Phonon}}) = P_{\\textrm{NTD Event}}$"
   ]
  },
  {
   "cell_type": "markdown",
   "metadata": {},
   "source": [
    "$\\textrm{Electron: }C_{\\textrm{Electron}} \\frac{dT_{\\textrm{Electron}}}{dt}- P_{\\textrm{Electrical Power}} + K_{\\textrm{E-P Coupling}} (T_{\\textrm{Electron}} - T_{\\textrm{Phonon}})=0$"
   ]
  },
  {
   "cell_type": "markdown",
   "metadata": {},
   "source": [
    "$\\textrm{Heater: }C_{\\textrm{Heater}} \\frac{dT_{\\textrm{Heater}}}{dt}+K_{\\textrm{Heater Gold Wire}}(T_{\\textrm{Heater}}-T_{\\textrm{Sink}})- K_{\\textrm{Heater Glue}} (T_{\\textrm{TeO}_2} - T_{\\textrm{Heater}}) = 0$"
   ]
  },
  {
   "cell_type": "markdown",
   "metadata": {},
   "source": [
    "$\\textrm{Crystal: } C_{\\textrm{Crystal}} \\frac{dT_{\\textrm{Crystal}}}{dt} + K_{\\textrm{Heater Glue}}(T_{\\textrm{TeO}_2}-T_{\\textrm{Heater}}) + K_{\\textrm{NTD Glue}} (T_{\\textrm{TeO}_2} - T_{\\textrm{NTD Phonon}})+ K_{\\textrm{TeO}_2 \\leftrightarrow \\textrm{Teflon}} (T_{\\textrm{TeO}_2} - T_{\\textrm{Teflon}})=0$"
   ]
  },
  {
   "cell_type": "markdown",
   "metadata": {},
   "source": [
    "$\\textrm{Teflon: } C_{\\textrm{Teflon}} \\frac{dT_{\\textrm{Teflon}}}{dt} + K_{\\textrm{Teflon} \\leftrightarrow \\textrm{Sink}}(T_{\\textrm{Teflon}}-T_{\\textrm{Sink}}) - K_{\\textrm{TeO}_2 \\leftrightarrow \\textrm{Teflon}} (T_{\\textrm{TeO}_2} - T_{\\textrm{Teflon}}) = 0$"
   ]
  },
  {
   "cell_type": "markdown",
   "metadata": {},
   "source": [
    "### Adding Temperature Dependence"
   ]
  },
  {
   "cell_type": "markdown",
   "metadata": {},
   "source": [
    "#### Conductance"
   ]
  },
  {
   "cell_type": "markdown",
   "metadata": {},
   "source": [
    "Conductance (K) is related to temperature by a power law relation: $K(T) = K_0T^\\beta$. It can also be written as the time derivative of power $\\frac{dP}{dt}$, such that we can express power as $P(T)=\\int^{T_2}_{T_1} K(T') dT'$, where $T_s$ is the temperature of the heat sink. Using this, we can integrate the equation to get &nbsp; \n",
    "\n",
    "$$({T_2}^{\\beta+1}-{T_1}^{\\beta+1}) = \\frac{\\beta+1}{K_0} P(T)$$\n",
    "\n",
    "where $K_0$ is the capacitance of the material at $T = 1\\textrm{K}$."
   ]
  },
  {
   "cell_type": "markdown",
   "metadata": {},
   "source": [
    "#### Capacitance"
   ]
  },
  {
   "cell_type": "markdown",
   "metadata": {},
   "source": [
    "Additionally, various heat capacitances also have temperature dependence based on the material. They are as follows:\n",
    "\n",
    "$$C_{Phonon} = \\alpha T^3 $$\n",
    "$$C_{Electron} = \\alpha T $$\n",
    "$$C_{Heater} = \\alpha T $$\n",
    "$$C_{Crystal} = \\alpha T^3 $$\n",
    "$$C_{Teflon} = \\alpha_1 T+  \\alpha_2 T^3 $$"
   ]
  },
  {
   "cell_type": "markdown",
   "metadata": {},
   "source": [
    "#### Electrical Feedback"
   ]
  },
  {
   "cell_type": "markdown",
   "metadata": {},
   "source": [
    "<img src=\"images/thermistor_biased.png\" alt=\"circuit\" style=\"width: 600px;\"/>"
   ]
  },
  {
   "cell_type": "markdown",
   "metadata": {},
   "source": [
    "Solving this circuit, we obtain (Vignati):\n",
    "\n",
    "$$ \\left[ \\frac{R_L + R(T)}{R(T)} \\right] V(T) - V_B + R_L c_p \\frac{dV(T)}{dt} = 0 $$\n",
    "\n",
    "The resistance of a thermistor is given by $R(T) = R_0 \\exp\\left(\\frac{T_0}{T}\\right)^\\gamma$. Therefore, we modify equation 2 above and add the differential equation for $V$. "
   ]
  },
  {
   "cell_type": "markdown",
   "metadata": {},
   "source": [
    "#### Putting It All Together"
   ]
  },
  {
   "cell_type": "markdown",
   "metadata": {},
   "source": [
    "$\\textrm{Phonon (a) : } \\alpha_a {T_a}^3 \\frac{dT_{a}}{dt}- \\frac{K_{\\textrm{0, NTD Glue}}}{\\beta_1+1}({T_{d}}^{\\beta_1+1} - {T_{a}}^{\\beta_1+1}) - \\frac{K_{\\textrm{0, E-P Coupling}}}{\\beta_2+1} ({T_{b}}^{\\beta_2+1} - {T_{a}}^{\\beta_2+1}) + \\frac{K_{\\textrm{0, NTD Gold Wire}}}{\\beta_3+1}({T_{a}}^{\\beta_3+1}-{T_{s}}^{\\beta_3+1})= P_{\\textrm{NTD Event}}$"
   ]
  },
  {
   "cell_type": "markdown",
   "metadata": {},
   "source": [
    "$\\textrm{Electron (b) : }\\alpha_b T_b \\frac{dT_{b}}{dt}- \\frac{{V(T)}^2}{R_0 \\exp\\left(\\frac{T_0}{T}\\right)^\\gamma} + \\frac{K_{\\textrm{0, E-P Coupling}}}{\\beta_2+1} ({T_{b}}^{\\beta_2+1} - {T_{a}}^{\\beta_2+1})=0$"
   ]
  },
  {
   "cell_type": "markdown",
   "metadata": {},
   "source": [
    "$\\textrm{Heater (c) : }\\alpha_c T_c \\frac{dT_{c}}{dt}-\\frac{K_{\\textrm{0, Heater Glue}}}{\\beta_4+1} ({T_{d}}^{\\beta_4+1} - {T_{c}}^{\\beta_4+1}) +\\frac{K_{\\textrm{0, Heater Gold Wire}}}{\\beta_5+1}({T_{c}}^{\\beta_5+1}-{T_{s}}^{\\beta_5+1}) = 0$"
   ]
  },
  {
   "cell_type": "markdown",
   "metadata": {},
   "source": [
    "$\\textrm{Crystal (d) : } \\alpha_d T_d^3 \\frac{dT_{d}}{dt} + \\frac{K_{\\textrm{0, NTD Glue}}}{\\beta_1+1} ({T_{d}}^{\\beta_1+1} - {T_{a}}^{\\beta_1+1}) + \\frac{K_{\\textrm{0, Heater Glue}}}{\\beta_4+1}({T_{d}}^{\\beta_4+1}-{T_{c}}^{\\beta_4+1}) + \\frac{K_{\\textrm{0, TeO}_2 \\leftrightarrow \\textrm{Teflon}}}{\\beta_6 +1} ({T_{d}}^{\\beta_6 +1} - {T_{e}}^{\\beta_6 +1})=0$"
   ]
  },
  {
   "cell_type": "markdown",
   "metadata": {},
   "source": [
    "$\\textrm{Teflon (e) : } (\\alpha_{e1}T_e+\\alpha_{e2}{T_e}^3) \\frac{dT_{e}}{dt}- \\frac{K_{\\textrm{0, TeO}_2 \\leftrightarrow \\textrm{Teflon}}}{\\beta_6+1} ({T_{d}}^{\\beta_6+1} - {T_{e}}^{\\beta_6+1})  + \\frac{K_{\\textrm{0, Teflon} \\leftrightarrow \\textrm{Sink}}}{\\beta_7+1}({T_{e}}^{\\beta_7+1}-{T_{s}}^{\\beta_7+1}) = 0$"
   ]
  },
  {
   "cell_type": "markdown",
   "metadata": {},
   "source": [
    "$\\textrm{Feedback Voltage (f) : }\\left[\\frac{R_L + R_0 \\exp\\left(\\frac{T_0}{T}\\right)^\\gamma}{R_0 \\exp\\left(\\frac{T_0}{T}\\right)^\\gamma} \\right] V(T) - V_B + R_L c_p \\frac{dV(T)}{dt} = 0$"
   ]
  },
  {
   "cell_type": "markdown",
   "metadata": {},
   "source": [
    "| Constants | Description | Values | Source \n",
    "| -------- | ---- | --- | --- |\n",
    "|$\\alpha_{\\textrm{ }1 \\rightarrow 7}$|\n",
    "|$\\beta_{\\textrm{ }1 \\rightarrow 7}$|\n",
    "|$k_{0 \\textrm{, }1 \\rightarrow 7}$|\n",
    "|T$_\\textrm{s}$|Heat Sink Temp|0.015 (K) | \n",
    "|R$_0$|\n",
    "|R$_\\textrm{L}$||60 G$\\Omega$\n",
    "|T$_0$|\n",
    "|$\\gamma$| | 0.5 \n",
    "|V$_{\\textrm{bias}}$|\n",
    "|C$_{\\textrm{p}}$||~500 pF\n",
    "\n",
    "\n"
   ]
  },
  {
   "cell_type": "markdown",
   "metadata": {},
   "source": [
    "## Solving equations with Fourth Order Runge-Kutta Method"
   ]
  },
  {
   "cell_type": "markdown",
   "metadata": {},
   "source": [
    "4th Order Runge-Kutta Generator: https://www.codeproject.com/Tips/792927/Fourth-Order-Runge-Kutta-Method-in-Python"
   ]
  },
  {
   "cell_type": "code",
   "execution_count": 1,
   "metadata": {
    "collapsed": true
   },
   "outputs": [],
   "source": [
    "import math\n",
    "import numpy as np\n",
    "%matplotlib inline\n",
    "import matplotlib\n",
    "import matplotlib.pyplot as plt\n",
    "from matplotlib.pylab import *\n",
    "\n",
    "#define constants\n",
    "alpha = [2.3e-8,9.3e-9,1e-11,2.1e-5,7.98e-12,0]\n",
    "beta = [3,5,2.4,3,2.4,2,1]\n",
    "k = [7.02e-3,7,1.92e-5,3.9e-3,1.92e-5,8e-5,1.25e-3]\n",
    "#values below from channel 1, CCVR, Vignati\n",
    "s = .015 \n",
    "R0 = 2.21\n",
    "Rl = 6e10 \n",
    "T0 = 4.65\n",
    "gamma = 0.5\n",
    "Vb = 5 \n",
    "Cp = 5e-10\n",
    "\n",
    "Pntd=4.8e-7\n",
    "dur=1e-3"
   ]
  },
  {
   "cell_type": "code",
   "execution_count": 25,
   "metadata": {
    "collapsed": true
   },
   "outputs": [],
   "source": [
    "def cond(index,start,end):\n",
    "    if start<0:\n",
    "        start = 0\n",
    "    if end<0:\n",
    "        end = 0\n",
    "    return ((k[index-1]/(beta[index-1]+1))*(start**(beta[index-1]+1) - end**(beta[index-1]+1)))\n",
    "\n",
    "def phonon(a,b,c,d,e,f): #add NTD Power\n",
    "    return (cond(1,d,a) + cond(2,b,a) - cond(3,a,s))/(alpha[0]*(a**3)) + (Pntd/dur)\n",
    "\n",
    "def electron(a,b,c,d,e,f): #figure out T\n",
    "    return ((f**2)/(R0*math.exp((T0/np.absolute(b))**gamma)) - cond(2,b,a))/(alpha[1]*b)\n",
    "\n",
    "def heater(a,b,c,d,e,f):\n",
    "    return (cond(4,d,c) - cond(5,c,s))/(alpha[2]*c)\n",
    "\n",
    "def crystal(a,b,c,d,e,f):\n",
    "    return (-1*cond(1,d,a) - cond(4,d,c) - cond(6,d,e))/(alpha[3]*(d**3))\n",
    "\n",
    "def teflon(a,b,c,d,e,f):\n",
    "    return (cond(6,d,e) - cond(7,e,s)) / ((alpha[4]*e) + (alpha[5]*(e**3)))\n",
    "\n",
    "def feedback (a,b,c,d,e,f):\n",
    "    return (Vb-(f*((Rl+(R0*math.exp((T0/np.absolute(b))**gamma)))/((R0*math.exp((T0/np.absolute(b))**gamma))))))/(Rl*Cp)"
   ]
  },
  {
   "cell_type": "code",
   "execution_count": 26,
   "metadata": {
    "collapsed": true
   },
   "outputs": [],
   "source": [
    "# fourth order Runge-Kutta method in 6 dimensions\n",
    "def rK6(a, b, c, d, e, f, fa, fb, fc, fd, fe, ff, hs):\n",
    "\ta1 = fa(a, b, c, d, e, f)*hs\n",
    "\tb1 = fb(a, b, c, d, e, f)*hs\n",
    "\tc1 = fc(a, b, c, d, e, f)*hs\n",
    "\td1 = fd(a, b, c, d, e, f)*hs\n",
    "\te1 = fe(a, b, c, d, e, f)*hs\n",
    "\tf1 = ff(a, b, c, d, e, f)*hs\n",
    "\tak = a + a1*0.5\n",
    "\tbk = b + b1*0.5\n",
    "\tck = c + c1*0.5\n",
    "\tdk = d + d1*0.5\n",
    "\tek = e + e1*0.5\n",
    "\tfk = f + f1*0.5\n",
    "\ta2 = fa(ak, bk, ck, dk, ek, fk)*hs\n",
    "\tb2 = fb(ak, bk, ck, dk, ek, fk)*hs\n",
    "\tc2 = fc(ak, bk, ck, dk, ek, fk)*hs\n",
    "\td2 = fd(ak, bk, ck, dk, ek, fk)*hs\n",
    "\te2 = fe(ak, bk, ck, dk, ek, fk)*hs\n",
    "\tf2 = ff(ak, bk, ck, dk, ek, fk)*hs\n",
    "\tak = a + a2*0.5\n",
    "\tbk = b + b2*0.5\n",
    "\tck = c + c2*0.5\n",
    "\tdk = d + d2*0.5\n",
    "\tek = e + e2*0.5\n",
    "\tfk = f + f2*0.5\n",
    "\ta3 = fa(ak, bk, ck, dk, ek, fk)*hs\n",
    "\tb3 = fb(ak, bk, ck, dk, ek, fk)*hs\n",
    "\tc3 = fc(ak, bk, ck, dk, ek, fk)*hs\n",
    "\td3 = fd(ak, bk, ck, dk, ek, fk)*hs\n",
    "\te3 = fe(ak, bk, ck, dk, ek, fk)*hs\n",
    "\tf3 = ff(ak, bk, ck, dk, ek, fk)*hs\n",
    "\tak = a + a3\n",
    "\tbk = b + b3\n",
    "\tck = c + c3\n",
    "\tdk = d + d3\n",
    "\tek = e + e3\n",
    "\tfk = f + f3\n",
    "\ta4 = fa(ak, bk, ck, dk, ek, fk)*hs\n",
    "\tb4 = fb(ak, bk, ck, dk, ek, fk)*hs\n",
    "\tc4 = fc(ak, bk, ck, dk, ek, fk)*hs\n",
    "\td4 = fd(ak, bk, ck, dk, ek, fk)*hs\n",
    "\te4 = fe(ak, bk, ck, dk, ek, fk)*hs\n",
    "\tf4 = ff(ak, bk, ck, dk, ek, fk)*hs\n",
    "\ta = a + (a1 + 2*(a2 + a3) + a4)/6\n",
    "\tb = b + (b1 + 2*(b2 + b3) + b4)/6\n",
    "\tc = c + (c1 + 2*(c2 + c3) + c4)/6\n",
    "\td = d + (d1 + 2*(d2 + d3) + d4)/6\n",
    "\te = e + (e1 + 2*(e2 + e3) + e4)/6\n",
    "\tf = f + (f1 + 2*(f2 + f3) + f4)/6\n",
    "\treturn a, b, c, d, e, f"
   ]
  },
  {
   "cell_type": "code",
   "execution_count": 29,
   "metadata": {
    "collapsed": true
   },
   "outputs": [],
   "source": [
    "#run algorithm\n",
    "TempArray = []\n",
    "\n",
    "def getTemps():\n",
    "    global TempArray\n",
    "    a,b,c,d,e,f,hs = 0.01,0.01,0.01,0.01,0.01,0.01,.001\n",
    "    for i in range(10000):\n",
    "        a, b, c, d, e, f = rK6(a, b, c, d, e, f, phonon, electron, heater, crystal, teflon, feedback, hs)\n",
    "        TempArray.append([a,b,c,d,e,f])\n",
    "        print a,b,c,d,e,f\n",
    "    TempArray = np.array(TempArray)\n",
    "    return TempArray"
   ]
  },
  {
   "cell_type": "code",
   "execution_count": 30,
   "metadata": {},
   "outputs": [
    {
     "name": "stdout",
     "output_type": "stream",
     "text": [
      "-9.47328276618e+41 -388933.002005 -1.63613910234e+48 46423495695.3 -1.09677622624e+27 69094429.3673\n",
      "-9.47328276618e+41 -1.08726723128e+28 -1.63613910234e+48 40764273515.8 -1.09677622624e+27 1.92432771173e+30\n",
      "-9.47328276618e+41 -3.04991287178e+50 -1.63613910234e+48 35794934663.6 -1.09677622624e+27 5.37795000715e+52\n",
      "-9.47328276618e+41 -8.55513062997e+72 -1.63613910234e+48 31431379418.0 -1.09677622624e+27 1.50298445026e+75\n",
      "-9.47328276618e+41 -2.39968430744e+95 -1.63613910234e+48 27599760172.8 -1.09677622624e+27 4.20041512978e+97\n",
      "-9.47328276618e+41 -6.73085140269e+117 -1.63613910234e+48 24235231660.3 -1.09677622624e+27 1.17389685964e+120\n",
      "-9.47328276618e+41 -1.8878804384e+140 -1.63613910234e+48 21280853527.3 -1.09677622624e+27 3.28070867878e+142\n"
     ]
    },
    {
     "ename": "OverflowError",
     "evalue": "(34, 'Numerical result out of range')",
     "output_type": "error",
     "traceback": [
      "\u001b[0;31m---------------------------------------------------------------------------\u001b[0m",
      "\u001b[0;31mOverflowError\u001b[0m                             Traceback (most recent call last)",
      "\u001b[0;32m<ipython-input-30-44ae394d2630>\u001b[0m in \u001b[0;36m<module>\u001b[0;34m()\u001b[0m\n\u001b[0;32m----> 1\u001b[0;31m \u001b[0mgetTemps\u001b[0m\u001b[0;34m(\u001b[0m\u001b[0;34m)\u001b[0m\u001b[0;34m\u001b[0m\u001b[0m\n\u001b[0m\u001b[1;32m      2\u001b[0m \u001b[0;32mprint\u001b[0m \u001b[0mTempArray\u001b[0m\u001b[0;34m\u001b[0m\u001b[0m\n",
      "\u001b[0;32m<ipython-input-29-e6e9484a153e>\u001b[0m in \u001b[0;36mgetTemps\u001b[0;34m()\u001b[0m\n\u001b[1;32m      6\u001b[0m     \u001b[0ma\u001b[0m\u001b[0;34m,\u001b[0m\u001b[0mb\u001b[0m\u001b[0;34m,\u001b[0m\u001b[0mc\u001b[0m\u001b[0;34m,\u001b[0m\u001b[0md\u001b[0m\u001b[0;34m,\u001b[0m\u001b[0me\u001b[0m\u001b[0;34m,\u001b[0m\u001b[0mf\u001b[0m\u001b[0;34m,\u001b[0m\u001b[0mhs\u001b[0m \u001b[0;34m=\u001b[0m \u001b[0;36m0.01\u001b[0m\u001b[0;34m,\u001b[0m\u001b[0;36m0.01\u001b[0m\u001b[0;34m,\u001b[0m\u001b[0;36m0.01\u001b[0m\u001b[0;34m,\u001b[0m\u001b[0;36m0.01\u001b[0m\u001b[0;34m,\u001b[0m\u001b[0;36m0.01\u001b[0m\u001b[0;34m,\u001b[0m\u001b[0;36m0.01\u001b[0m\u001b[0;34m,\u001b[0m\u001b[0;36m.001\u001b[0m\u001b[0;34m\u001b[0m\u001b[0m\n\u001b[1;32m      7\u001b[0m     \u001b[0;32mfor\u001b[0m \u001b[0mi\u001b[0m \u001b[0;32min\u001b[0m \u001b[0mrange\u001b[0m\u001b[0;34m(\u001b[0m\u001b[0;36m10000\u001b[0m\u001b[0;34m)\u001b[0m\u001b[0;34m:\u001b[0m\u001b[0;34m\u001b[0m\u001b[0m\n\u001b[0;32m----> 8\u001b[0;31m         \u001b[0ma\u001b[0m\u001b[0;34m,\u001b[0m \u001b[0mb\u001b[0m\u001b[0;34m,\u001b[0m \u001b[0mc\u001b[0m\u001b[0;34m,\u001b[0m \u001b[0md\u001b[0m\u001b[0;34m,\u001b[0m \u001b[0me\u001b[0m\u001b[0;34m,\u001b[0m \u001b[0mf\u001b[0m \u001b[0;34m=\u001b[0m \u001b[0mrK6\u001b[0m\u001b[0;34m(\u001b[0m\u001b[0ma\u001b[0m\u001b[0;34m,\u001b[0m \u001b[0mb\u001b[0m\u001b[0;34m,\u001b[0m \u001b[0mc\u001b[0m\u001b[0;34m,\u001b[0m \u001b[0md\u001b[0m\u001b[0;34m,\u001b[0m \u001b[0me\u001b[0m\u001b[0;34m,\u001b[0m \u001b[0mf\u001b[0m\u001b[0;34m,\u001b[0m \u001b[0mphonon\u001b[0m\u001b[0;34m,\u001b[0m \u001b[0melectron\u001b[0m\u001b[0;34m,\u001b[0m \u001b[0mheater\u001b[0m\u001b[0;34m,\u001b[0m \u001b[0mcrystal\u001b[0m\u001b[0;34m,\u001b[0m \u001b[0mteflon\u001b[0m\u001b[0;34m,\u001b[0m \u001b[0mfeedback\u001b[0m\u001b[0;34m,\u001b[0m \u001b[0mhs\u001b[0m\u001b[0;34m)\u001b[0m\u001b[0;34m\u001b[0m\u001b[0m\n\u001b[0m\u001b[1;32m      9\u001b[0m         \u001b[0mTempArray\u001b[0m\u001b[0;34m.\u001b[0m\u001b[0mappend\u001b[0m\u001b[0;34m(\u001b[0m\u001b[0;34m[\u001b[0m\u001b[0ma\u001b[0m\u001b[0;34m,\u001b[0m\u001b[0mb\u001b[0m\u001b[0;34m,\u001b[0m\u001b[0mc\u001b[0m\u001b[0;34m,\u001b[0m\u001b[0md\u001b[0m\u001b[0;34m,\u001b[0m\u001b[0me\u001b[0m\u001b[0;34m,\u001b[0m\u001b[0mf\u001b[0m\u001b[0;34m]\u001b[0m\u001b[0;34m)\u001b[0m\u001b[0;34m\u001b[0m\u001b[0m\n\u001b[1;32m     10\u001b[0m         \u001b[0;32mprint\u001b[0m \u001b[0ma\u001b[0m\u001b[0;34m,\u001b[0m\u001b[0mb\u001b[0m\u001b[0;34m,\u001b[0m\u001b[0mc\u001b[0m\u001b[0;34m,\u001b[0m\u001b[0md\u001b[0m\u001b[0;34m,\u001b[0m\u001b[0me\u001b[0m\u001b[0;34m,\u001b[0m\u001b[0mf\u001b[0m\u001b[0;34m\u001b[0m\u001b[0m\n",
      "\u001b[0;32m<ipython-input-26-757d355d7cd2>\u001b[0m in \u001b[0;36mrK6\u001b[0;34m(a, b, c, d, e, f, fa, fb, fc, fd, fe, ff, hs)\u001b[0m\n\u001b[1;32m     38\u001b[0m         \u001b[0mfk\u001b[0m \u001b[0;34m=\u001b[0m \u001b[0mf\u001b[0m \u001b[0;34m+\u001b[0m \u001b[0mf3\u001b[0m\u001b[0;34m\u001b[0m\u001b[0m\n\u001b[1;32m     39\u001b[0m         \u001b[0ma4\u001b[0m \u001b[0;34m=\u001b[0m \u001b[0mfa\u001b[0m\u001b[0;34m(\u001b[0m\u001b[0mak\u001b[0m\u001b[0;34m,\u001b[0m \u001b[0mbk\u001b[0m\u001b[0;34m,\u001b[0m \u001b[0mck\u001b[0m\u001b[0;34m,\u001b[0m \u001b[0mdk\u001b[0m\u001b[0;34m,\u001b[0m \u001b[0mek\u001b[0m\u001b[0;34m,\u001b[0m \u001b[0mfk\u001b[0m\u001b[0;34m)\u001b[0m\u001b[0;34m*\u001b[0m\u001b[0mhs\u001b[0m\u001b[0;34m\u001b[0m\u001b[0m\n\u001b[0;32m---> 40\u001b[0;31m         \u001b[0mb4\u001b[0m \u001b[0;34m=\u001b[0m \u001b[0mfb\u001b[0m\u001b[0;34m(\u001b[0m\u001b[0mak\u001b[0m\u001b[0;34m,\u001b[0m \u001b[0mbk\u001b[0m\u001b[0;34m,\u001b[0m \u001b[0mck\u001b[0m\u001b[0;34m,\u001b[0m \u001b[0mdk\u001b[0m\u001b[0;34m,\u001b[0m \u001b[0mek\u001b[0m\u001b[0;34m,\u001b[0m \u001b[0mfk\u001b[0m\u001b[0;34m)\u001b[0m\u001b[0;34m*\u001b[0m\u001b[0mhs\u001b[0m\u001b[0;34m\u001b[0m\u001b[0m\n\u001b[0m\u001b[1;32m     41\u001b[0m         \u001b[0mc4\u001b[0m \u001b[0;34m=\u001b[0m \u001b[0mfc\u001b[0m\u001b[0;34m(\u001b[0m\u001b[0mak\u001b[0m\u001b[0;34m,\u001b[0m \u001b[0mbk\u001b[0m\u001b[0;34m,\u001b[0m \u001b[0mck\u001b[0m\u001b[0;34m,\u001b[0m \u001b[0mdk\u001b[0m\u001b[0;34m,\u001b[0m \u001b[0mek\u001b[0m\u001b[0;34m,\u001b[0m \u001b[0mfk\u001b[0m\u001b[0;34m)\u001b[0m\u001b[0;34m*\u001b[0m\u001b[0mhs\u001b[0m\u001b[0;34m\u001b[0m\u001b[0m\n\u001b[1;32m     42\u001b[0m         \u001b[0md4\u001b[0m \u001b[0;34m=\u001b[0m \u001b[0mfd\u001b[0m\u001b[0;34m(\u001b[0m\u001b[0mak\u001b[0m\u001b[0;34m,\u001b[0m \u001b[0mbk\u001b[0m\u001b[0;34m,\u001b[0m \u001b[0mck\u001b[0m\u001b[0;34m,\u001b[0m \u001b[0mdk\u001b[0m\u001b[0;34m,\u001b[0m \u001b[0mek\u001b[0m\u001b[0;34m,\u001b[0m \u001b[0mfk\u001b[0m\u001b[0;34m)\u001b[0m\u001b[0;34m*\u001b[0m\u001b[0mhs\u001b[0m\u001b[0;34m\u001b[0m\u001b[0m\n",
      "\u001b[0;32m<ipython-input-25-ff487c9fe9bd>\u001b[0m in \u001b[0;36melectron\u001b[0;34m(a, b, c, d, e, f)\u001b[0m\n\u001b[1;32m     10\u001b[0m \u001b[0;34m\u001b[0m\u001b[0m\n\u001b[1;32m     11\u001b[0m \u001b[0;32mdef\u001b[0m \u001b[0melectron\u001b[0m\u001b[0;34m(\u001b[0m\u001b[0ma\u001b[0m\u001b[0;34m,\u001b[0m\u001b[0mb\u001b[0m\u001b[0;34m,\u001b[0m\u001b[0mc\u001b[0m\u001b[0;34m,\u001b[0m\u001b[0md\u001b[0m\u001b[0;34m,\u001b[0m\u001b[0me\u001b[0m\u001b[0;34m,\u001b[0m\u001b[0mf\u001b[0m\u001b[0;34m)\u001b[0m\u001b[0;34m:\u001b[0m \u001b[0;31m#figure out T\u001b[0m\u001b[0;34m\u001b[0m\u001b[0m\n\u001b[0;32m---> 12\u001b[0;31m     \u001b[0;32mreturn\u001b[0m \u001b[0;34m(\u001b[0m\u001b[0;34m(\u001b[0m\u001b[0mf\u001b[0m\u001b[0;34m**\u001b[0m\u001b[0;36m2\u001b[0m\u001b[0;34m)\u001b[0m\u001b[0;34m/\u001b[0m\u001b[0;34m(\u001b[0m\u001b[0mR0\u001b[0m\u001b[0;34m*\u001b[0m\u001b[0mmath\u001b[0m\u001b[0;34m.\u001b[0m\u001b[0mexp\u001b[0m\u001b[0;34m(\u001b[0m\u001b[0;34m(\u001b[0m\u001b[0mT0\u001b[0m\u001b[0;34m/\u001b[0m\u001b[0mnp\u001b[0m\u001b[0;34m.\u001b[0m\u001b[0mabsolute\u001b[0m\u001b[0;34m(\u001b[0m\u001b[0mb\u001b[0m\u001b[0;34m)\u001b[0m\u001b[0;34m)\u001b[0m\u001b[0;34m**\u001b[0m\u001b[0mgamma\u001b[0m\u001b[0;34m)\u001b[0m\u001b[0;34m)\u001b[0m \u001b[0;34m-\u001b[0m \u001b[0mcond\u001b[0m\u001b[0;34m(\u001b[0m\u001b[0;36m2\u001b[0m\u001b[0;34m,\u001b[0m\u001b[0mb\u001b[0m\u001b[0;34m,\u001b[0m\u001b[0ma\u001b[0m\u001b[0;34m)\u001b[0m\u001b[0;34m)\u001b[0m\u001b[0;34m/\u001b[0m\u001b[0;34m(\u001b[0m\u001b[0malpha\u001b[0m\u001b[0;34m[\u001b[0m\u001b[0;36m1\u001b[0m\u001b[0;34m]\u001b[0m\u001b[0;34m*\u001b[0m\u001b[0mb\u001b[0m\u001b[0;34m)\u001b[0m\u001b[0;34m\u001b[0m\u001b[0m\n\u001b[0m\u001b[1;32m     13\u001b[0m \u001b[0;34m\u001b[0m\u001b[0m\n\u001b[1;32m     14\u001b[0m \u001b[0;32mdef\u001b[0m \u001b[0mheater\u001b[0m\u001b[0;34m(\u001b[0m\u001b[0ma\u001b[0m\u001b[0;34m,\u001b[0m\u001b[0mb\u001b[0m\u001b[0;34m,\u001b[0m\u001b[0mc\u001b[0m\u001b[0;34m,\u001b[0m\u001b[0md\u001b[0m\u001b[0;34m,\u001b[0m\u001b[0me\u001b[0m\u001b[0;34m,\u001b[0m\u001b[0mf\u001b[0m\u001b[0;34m)\u001b[0m\u001b[0;34m:\u001b[0m\u001b[0;34m\u001b[0m\u001b[0m\n",
      "\u001b[0;31mOverflowError\u001b[0m: (34, 'Numerical result out of range')"
     ]
    }
   ],
   "source": [
    "getTemps()\n",
    "print TempArray"
   ]
  },
  {
   "cell_type": "code",
   "execution_count": 14,
   "metadata": {},
   "outputs": [
    {
     "ename": "TypeError",
     "evalue": "list indices must be integers, not tuple",
     "output_type": "error",
     "traceback": [
      "\u001b[0;31m---------------------------------------------------------------------------\u001b[0m",
      "\u001b[0;31mTypeError\u001b[0m                                 Traceback (most recent call last)",
      "\u001b[0;32m<ipython-input-14-19a2a2c6694d>\u001b[0m in \u001b[0;36m<module>\u001b[0;34m()\u001b[0m\n\u001b[1;32m      2\u001b[0m \u001b[0;34m\u001b[0m\u001b[0m\n\u001b[1;32m      3\u001b[0m \u001b[0mt\u001b[0m \u001b[0;34m=\u001b[0m \u001b[0mlinspace\u001b[0m\u001b[0;34m(\u001b[0m\u001b[0;36m0\u001b[0m\u001b[0;34m,\u001b[0m\u001b[0;36m10\u001b[0m\u001b[0;34m,\u001b[0m\u001b[0;36m10000\u001b[0m\u001b[0;34m)\u001b[0m\u001b[0;34m\u001b[0m\u001b[0m\n\u001b[0;32m----> 4\u001b[0;31m \u001b[0mplot\u001b[0m\u001b[0;34m(\u001b[0m\u001b[0mt\u001b[0m\u001b[0;34m,\u001b[0m\u001b[0mTempArray\u001b[0m\u001b[0;34m[\u001b[0m\u001b[0;34m:\u001b[0m\u001b[0;34m,\u001b[0m\u001b[0;36m4\u001b[0m\u001b[0;34m]\u001b[0m\u001b[0;34m)\u001b[0m\u001b[0;34m\u001b[0m\u001b[0m\n\u001b[0m",
      "\u001b[0;31mTypeError\u001b[0m: list indices must be integers, not tuple"
     ]
    }
   ],
   "source": [
    "#plot curve\n",
    "\n",
    "t = linspace(0,10,10000)\n",
    "plot(t,TempArray[:,4])"
   ]
  },
  {
   "cell_type": "code",
   "execution_count": null,
   "metadata": {
    "collapsed": true
   },
   "outputs": [],
   "source": []
  }
 ],
 "metadata": {
  "kernelspec": {
   "display_name": "Python 2",
   "language": "python",
   "name": "python2"
  },
  "language_info": {
   "codemirror_mode": {
    "name": "ipython",
    "version": 2
   },
   "file_extension": ".py",
   "mimetype": "text/x-python",
   "name": "python",
   "nbconvert_exporter": "python",
   "pygments_lexer": "ipython2",
   "version": "2.7.12"
  }
 },
 "nbformat": 4,
 "nbformat_minor": 2
}
