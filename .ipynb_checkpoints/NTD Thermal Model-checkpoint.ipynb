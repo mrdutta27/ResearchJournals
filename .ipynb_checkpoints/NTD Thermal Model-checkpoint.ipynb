{
 "cells": [
  {
   "cell_type": "markdown",
   "metadata": {},
   "source": [
    "# NTD Event Thermal Modeling"
   ]
  },
  {
   "cell_type": "markdown",
   "metadata": {},
   "source": [
    "## Thermal Model"
   ]
  },
  {
   "cell_type": "markdown",
   "metadata": {},
   "source": [
    "![title](images/vivekthermalmodel.png)"
   ]
  },
  {
   "cell_type": "markdown",
   "metadata": {},
   "source": [
    "### Temperature-Independent Power Conservation Equations: NTD Event"
   ]
  },
  {
   "cell_type": "markdown",
   "metadata": {},
   "source": [
    "$\\textrm{Phonon: } C_{\\textrm{Phonon}} \\frac{dT_{\\textrm{Phonon}}}{dt} + K_{\\textrm{NTD Gold Wire}}(T_{\\textrm{Phonon}}-T_{\\textrm{Sink}}) - K_{\\textrm{NTD Glue}} (T_{\\textrm{TeO}_2} - T_{\\textrm{Phonon}}) - K_{\\textrm{E-P Coupling}} (T_{\\textrm{Electron}} - T_{\\textrm{Phonon}}) = P_{\\textrm{NTD Event}}$"
   ]
  },
  {
   "cell_type": "markdown",
   "metadata": {},
   "source": [
    "$\\textrm{Electron: }C_{\\textrm{Electron}} \\frac{dT_{\\textrm{Electron}}}{dt}- P_{\\textrm{Electrical Power}} + K_{\\textrm{E-P Coupling}} (T_{\\textrm{Electron}} - T_{\\textrm{Phonon}})=0$"
   ]
  },
  {
   "cell_type": "markdown",
   "metadata": {},
   "source": [
    "$\\textrm{Heater: }C_{\\textrm{Heater}} \\frac{dT_{\\textrm{Heater}}}{dt}+K_{\\textrm{Heater Gold Wire}}(T_{\\textrm{Heater}}-T_{\\textrm{Sink}})- K_{\\textrm{Heater Glue}} (T_{\\textrm{TeO}_2} - T_{\\textrm{Heater}}) = 0$"
   ]
  },
  {
   "cell_type": "markdown",
   "metadata": {},
   "source": [
    "$\\textrm{Crystal: } C_{\\textrm{Crystal}} \\frac{dT_{\\textrm{Crystal}}}{dt} + K_{\\textrm{Heater Glue}}(T_{\\textrm{TeO}_2}-T_{\\textrm{Heater}}) + K_{\\textrm{NTD Glue}} (T_{\\textrm{TeO}_2} - T_{\\textrm{NTD Phonon}})+ K_{\\textrm{TeO}_2 \\leftrightarrow \\textrm{Teflon}} (T_{\\textrm{TeO}_2} - T_{\\textrm{Teflon}})=0$"
   ]
  },
  {
   "cell_type": "markdown",
   "metadata": {},
   "source": [
    "$\\textrm{Teflon: } C_{\\textrm{Teflon}} \\frac{dT_{\\textrm{Teflon}}}{dt} + K_{\\textrm{Teflon} \\leftrightarrow \\textrm{Sink}}(T_{\\textrm{Teflon}}-T_{\\textrm{Sink}}) - K_{\\textrm{TeO}_2 \\leftrightarrow \\textrm{Teflon}} (T_{\\textrm{TeO}_2} - T_{\\textrm{Teflon}}) = 0$"
   ]
  },
  {
   "cell_type": "markdown",
   "metadata": {},
   "source": [
    "### Adding Temperature Dependence"
   ]
  },
  {
   "cell_type": "markdown",
   "metadata": {},
   "source": [
    "#### Conductance"
   ]
  },
  {
   "cell_type": "markdown",
   "metadata": {},
   "source": [
    "Conductance (K) is related to temperature by a power law relation: $K(T) = K_0T^\\beta$. It can also be written as the time derivative of power $\\frac{dP}{dt}$, such that we can express power as $P(T)=\\int^{T_2}_{T_1} K(T') dT'$, where $T_s$ is the temperature of the heat sink. Using this, we can integrate the equation to get &nbsp; \n",
    "\n",
    "$$({T_2}^{\\beta+1}-{T_1}^{\\beta+1}) = \\frac{\\beta+1}{K_0} P(T)$$\n",
    "\n",
    "where $K_0$ is the capacitance of the material at $T = 1\\textrm{K}$."
   ]
  },
  {
   "cell_type": "markdown",
   "metadata": {},
   "source": [
    "#### Capacitance"
   ]
  },
  {
   "cell_type": "markdown",
   "metadata": {},
   "source": [
    "Additionally, various heat capacitances also have temperature dependence based on the material. They are as follows:\n",
    "\n",
    "$$C_{Phonon} = \\alpha T^3 $$\n",
    "$$C_{Electron} = \\alpha T $$\n",
    "$$C_{Heater} = \\alpha T $$\n",
    "$$C_{Crystal} = \\alpha T^3 $$\n",
    "$$C_{Teflon} = \\alpha_1 T+  \\alpha_2 T^3 $$"
   ]
  },
  {
   "cell_type": "markdown",
   "metadata": {},
   "source": [
    "#### Electrical Feedback"
   ]
  },
  {
   "cell_type": "markdown",
   "metadata": {},
   "source": [
    "<img src=\"images/thermistor_biased.png\" alt=\"circuit\" style=\"width: 600px;\"/>"
   ]
  },
  {
   "cell_type": "markdown",
   "metadata": {},
   "source": [
    "Solving this circuit, we obtain (Vignati):\n",
    "\n",
    "$$ \\left[ \\frac{R_L + R(T)}{R(T)} \\right] V(T) - V_B + R_L c_p \\frac{dV(T)}{dt} = 0 $$\n",
    "\n",
    "The resistance of a thermistor is given by $R(T) = R_0 \\exp\\left(\\frac{T_0}{T}\\right)^\\gamma$. Therefore, we modify equation 2 above and add the differential equation for $V$. "
   ]
  },
  {
   "cell_type": "markdown",
   "metadata": {},
   "source": [
    "#### Putting It All Together"
   ]
  },
  {
   "cell_type": "markdown",
   "metadata": {},
   "source": [
    "$\\textrm{Phonon (a) : } \\alpha_a {T_a}^3 \\frac{dT_{a}}{dt}- \\frac{K_{\\textrm{0, NTD Glue}}}{\\beta_1+1}({T_{d}}^{\\beta_1+1} - {T_{a}}^{\\beta_1+1}) - \\frac{K_{\\textrm{0, E-P Coupling}}}{\\beta_2+1} ({T_{b}}^{\\beta_2+1} - {T_{a}}^{\\beta_2+1}) + \\frac{K_{\\textrm{0, NTD Gold Wire}}}{\\beta_3+1}({T_{a}}^{\\beta_3+1}-{T_{s}}^{\\beta_3+1})= P_{\\textrm{NTD Event}}$"
   ]
  },
  {
   "cell_type": "markdown",
   "metadata": {},
   "source": [
    "$\\textrm{Electron (b) : }\\alpha_b T_b \\frac{dT_{b}}{dt}- \\frac{{V(T)}^2 - {V_0(T)}^2}{R_0 \\exp\\left(\\frac{T_0}{T}\\right)^\\gamma} + \\frac{K_{\\textrm{0, E-P Coupling}}}{\\beta_2+1} ({T_{b}}^{\\beta_2+1} - {T_{a}}^{\\beta_2+1})=0$"
   ]
  },
  {
   "cell_type": "markdown",
   "metadata": {},
   "source": [
    "$\\textrm{Heater (c) : }\\alpha_c T_c \\frac{dT_{c}}{dt}-\\frac{K_{\\textrm{0, Heater Glue}}}{\\beta_4+1} ({T_{d}}^{\\beta_4+1} - {T_{c}}^{\\beta_4+1}) +\\frac{K_{\\textrm{0, Heater Gold Wire}}}{\\beta_5+1}({T_{c}}^{\\beta_5+1}-{T_{s}}^{\\beta_5+1}) = 0$"
   ]
  },
  {
   "cell_type": "markdown",
   "metadata": {},
   "source": [
    "$\\textrm{Crystal (d) : } \\alpha_d {T_d}^3 \\frac{dT_{d}}{dt} + \\frac{K_{\\textrm{0, NTD Glue}}}{\\beta_1+1} ({T_{d}}^{\\beta_1+1} - {T_{a}}^{\\beta_1+1}) + \\frac{K_{\\textrm{0, Heater Glue}}}{\\beta_4+1}({T_{d}}^{\\beta_4+1}-{T_{c}}^{\\beta_4+1}) + \\frac{K_{\\textrm{0, TeO}_2 \\leftrightarrow \\textrm{Teflon}}}{\\beta_6 +1} ({T_{d}}^{\\beta_6 +1} - {T_{e}}^{\\beta_6 +1})=0$"
   ]
  },
  {
   "cell_type": "markdown",
   "metadata": {},
   "source": [
    "$\\textrm{Teflon (e) : } (\\alpha_{e1}T_e+\\alpha_{e2}{T_e}^3) \\frac{dT_{e}}{dt}- \\frac{K_{\\textrm{0, TeO}_2 \\leftrightarrow \\textrm{Teflon}}}{\\beta_6+1} ({T_{d}}^{\\beta_6+1} - {T_{e}}^{\\beta_6+1})  + \\frac{K_{\\textrm{0, Teflon} \\leftrightarrow \\textrm{Sink}}}{\\beta_7+1}({T_{e}}^{\\beta_7+1}-{T_{s}}^{\\beta_7+1}) = 0$"
   ]
  },
  {
   "cell_type": "markdown",
   "metadata": {},
   "source": [
    "$\\textrm{Feedback Voltage (f) : }\\left[\\frac{R_L + R_0 \\exp\\left(\\frac{T_0}{T}\\right)^\\gamma}{R_0 \\exp\\left(\\frac{T_0}{T}\\right)^\\gamma} \\right] V(T) - V_B + R_L c_p \\frac{dV(T)}{dt} = 0$"
   ]
  },
  {
   "cell_type": "markdown",
   "metadata": {},
   "source": [
    "## Solving equations with Fourth Order Runge-Kutta Method"
   ]
  },
  {
   "cell_type": "markdown",
   "metadata": {},
   "source": [
    "4th Order Runge-Kutta Generator: https://www.codeproject.com/Tips/792927/Fourth-Order-Runge-Kutta-Method-in-Python"
   ]
  },
  {
   "cell_type": "code",
   "execution_count": 1,
   "metadata": {
    "collapsed": true
   },
   "outputs": [],
   "source": [
    "import math\n",
    "import numpy as np\n",
    "%matplotlib inline\n",
    "import matplotlib\n",
    "import matplotlib.pyplot as plt\n",
    "from matplotlib.pylab import *\n",
    "import time\n",
    "from tqdm import tnrange, tqdm_notebook\n",
    "\n",
    "#define constants\n",
    "alpha = [2.3e-8,9.3e-9,1e-11,2.29e-3,4.28e-7,0]\n",
    "beta = [3,5,2.4,3,2.4,2,1]\n",
    "k = [2.34e-3,1.4,3.2e-5,1.3e-3,3.2e-5,4e-5,1.25e-3]\n",
    "#values below from channel 1, CCVR, Vignati\n",
    "s = .015\n",
    "R0 = 1.15\n",
    "Rl = 6e10 \n",
    "T0 = 3.35\n",
    "gamma = 0.5\n",
    "Vb = 5 \n",
    "Cp = 5e-10\n",
    "\n",
    "dur=1e-4"
   ]
  },
  {
   "cell_type": "code",
   "execution_count": 2,
   "metadata": {
    "collapsed": true
   },
   "outputs": [],
   "source": [
    "def cond(index,start,end):\n",
    "    return ((k[index-1])*((start)**(beta[index-1]) - (end)**(beta[index-1])))\n",
    "\n",
    "def Rntd(temp):\n",
    "    return R0*math.exp((T0/temp)**gamma)\n",
    "\n",
    "def phonon(a,b,c,d,e,f): #add NTD Power\n",
    "    return ((Pntd/dur)+cond(1,d,a) + cond(2,b,a) - cond(3,a,s))/(alpha[0]*(a**3))\n",
    "\n",
    "def electron(a,b,c,d,e,f): #figure out T\n",
    "    return ((f**2 - ((Vb*Rntd(s))/(Rl+Rntd(s)))**2)/(Rntd(b)) - cond(2,b,a))/(alpha[1]*b)\n",
    "\n",
    "def heater(a,b,c,d,e,f):\n",
    "    return (cond(4,d,c) - cond(5,c,s))/(alpha[2]*c)\n",
    "\n",
    "def crystal(a,b,c,d,e,f):\n",
    "    return ((Pcrystal/dur)-cond(1,d,a) - cond(4,d,c) - cond(6,d,e))/(alpha[3]*((d)**3))\n",
    "\n",
    "def teflon(a,b,c,d,e,f):\n",
    "    return (cond(6,d,e) - cond(7,e,s)) / ((alpha[4]*e) + (alpha[5]*(e**3)))\n",
    "\n",
    "def feedback (a,b,c,d,e,f):\n",
    "    return (Vb-(f*((Rl+Rntd(b))/(Rntd(b)))))/(Rl*Cp)"
   ]
  },
  {
   "cell_type": "code",
   "execution_count": 3,
   "metadata": {
    "collapsed": true
   },
   "outputs": [],
   "source": [
    "# fourth order Runge-Kutta method in 6 dimensions\n",
    "def rK6(a, b, c, d, e, f, fa, fb, fc, fd, fe, ff, hs):\n",
    "\ta1 = fa(a, b, c, d, e, f)*hs\n",
    "\tb1 = fb(a, b, c, d, e, f)*hs\n",
    "\tc1 = fc(a, b, c, d, e, f)*hs\n",
    "\td1 = fd(a, b, c, d, e, f)*hs\n",
    "\te1 = fe(a, b, c, d, e, f)*hs\n",
    "\tf1 = ff(a, b, c, d, e, f)*hs\n",
    "\tak = a + a1*0.5\n",
    "\tbk = b + b1*0.5\n",
    "\tck = c + c1*0.5\n",
    "\tdk = d + d1*0.5\n",
    "\tek = e + e1*0.5\n",
    "\tfk = f + f1*0.5\n",
    "\ta2 = fa(ak, bk, ck, dk, ek, fk)*hs\n",
    "\tb2 = fb(ak, bk, ck, dk, ek, fk)*hs\n",
    "\tc2 = fc(ak, bk, ck, dk, ek, fk)*hs\n",
    "\td2 = fd(ak, bk, ck, dk, ek, fk)*hs\n",
    "\te2 = fe(ak, bk, ck, dk, ek, fk)*hs\n",
    "\tf2 = ff(ak, bk, ck, dk, ek, fk)*hs\n",
    "\tak = a + a2*0.5\n",
    "\tbk = b + b2*0.5\n",
    "\tck = c + c2*0.5\n",
    "\tdk = d + d2*0.5\n",
    "\tek = e + e2*0.5\n",
    "\tfk = f + f2*0.5\n",
    "\ta3 = fa(ak, bk, ck, dk, ek, fk)*hs\n",
    "\tb3 = fb(ak, bk, ck, dk, ek, fk)*hs\n",
    "\tc3 = fc(ak, bk, ck, dk, ek, fk)*hs\n",
    "\td3 = fd(ak, bk, ck, dk, ek, fk)*hs\n",
    "\te3 = fe(ak, bk, ck, dk, ek, fk)*hs\n",
    "\tf3 = ff(ak, bk, ck, dk, ek, fk)*hs\n",
    "\tak = a + a3\n",
    "\tbk = b + b3\n",
    "\tck = c + c3\n",
    "\tdk = d + d3\n",
    "\tek = e + e3\n",
    "\tfk = f + f3\n",
    "\ta4 = fa(ak, bk, ck, dk, ek, fk)*hs\n",
    "\tb4 = fb(ak, bk, ck, dk, ek, fk)*hs\n",
    "\tc4 = fc(ak, bk, ck, dk, ek, fk)*hs\n",
    "\td4 = fd(ak, bk, ck, dk, ek, fk)*hs\n",
    "\te4 = fe(ak, bk, ck, dk, ek, fk)*hs\n",
    "\tf4 = ff(ak, bk, ck, dk, ek, fk)*hs\n",
    "\ta = a + (a1 + 2*(a2 + a3) + a4)/6\n",
    "\tb = b + (b1 + 2*(b2 + b3) + b4)/6\n",
    "\tc = c + (c1 + 2*(c2 + c3) + c4)/6\n",
    "\td = d + (d1 + 2*(d2 + d3) + d4)/6\n",
    "\te = e + (e1 + 2*(e2 + e3) + e4)/6\n",
    "\tf = f + (f1 + 2*(f2 + f3) + f4)/6\n",
    "\treturn a, b, c, d, e, f"
   ]
  },
  {
   "cell_type": "code",
   "execution_count": 4,
   "metadata": {},
   "outputs": [
    {
     "name": "stderr",
     "output_type": "stream",
     "text": [
      "Widget Javascript not detected.  It may not be installed or enabled properly.\n"
     ]
    },
    {
     "data": {
      "application/vnd.jupyter.widget-view+json": {
       "model_id": "1168f7b0a4fe41569f81b8e575167ac3"
      }
     },
     "metadata": {},
     "output_type": "display_data"
    },
    {
     "name": "stdout",
     "output_type": "stream",
     "text": [
      "\n"
     ]
    },
    {
     "name": "stderr",
     "output_type": "stream",
     "text": [
      "Widget Javascript not detected.  It may not be installed or enabled properly.\n"
     ]
    },
    {
     "data": {
      "application/vnd.jupyter.widget-view+json": {
       "model_id": "0eb84c5a02194c3b97efba958cd33de9"
      }
     },
     "metadata": {},
     "output_type": "display_data"
    },
    {
     "name": "stdout",
     "output_type": "stream",
     "text": [
      "\n"
     ]
    }
   ],
   "source": [
    "#run algorithm\n",
    "ntdEventArray = []\n",
    "crystalEventArray = []\n",
    "timeSteps = int(5e6)\n",
    "Pcrystal, Pntd = 0,0\n",
    "eventEnergy = (2615.0)*(1.6022e-16) #2615 KeV\n",
    "\n",
    "def getTemps(eventType):\n",
    "    global Pcrystal\n",
    "    global Pntd\n",
    "    global timeSteps\n",
    "    global eventEnergy\n",
    "    TempArray = []\n",
    "    if eventType == \"ntd\":\n",
    "        Pcrystal = 0\n",
    "        Pntd = eventEnergy\n",
    "    else:\n",
    "        Pcrystal = eventEnergy\n",
    "        Pntd = 0\n",
    "    a,b,c,d,e,f,hs = s,s,s,s,s,(Vb*Rntd(s))/(Rl+Rntd(s)),1e-8\n",
    "    start = time.time()\n",
    "    for i in tqdm_notebook(range(timeSteps),desc=eventType):\n",
    "        if i>timeSteps/5000:\n",
    "            Pcrystal=0\n",
    "            Pntd = 0\n",
    "        a, b, c, d, e, f = rK6(a, b, c, d, e, f, phonon, electron, heater, crystal, teflon, feedback, hs)\n",
    "        TempArray.append([a,b,c,d,e,f])\n",
    "    #print a,b,c,d,e\n",
    "    end = time.time()\n",
    "    TempArray = np.array(TempArray)\n",
    "    return TempArray\n",
    "\n",
    "ntdEventArray = getTemps(\"ntd\")\n",
    "crystalEventArray = getTemps(\"crystal\")"
   ]
  },
  {
   "cell_type": "markdown",
   "metadata": {},
   "source": [
    "### Crystal Event"
   ]
  },
  {
   "cell_type": "code",
   "execution_count": 25,
   "metadata": {},
   "outputs": [
    {
     "name": "stdout",
     "output_type": "stream",
     "text": [
      "Amplitude: 3.69106576091e-06\n",
      "Rise Time: 0.063783\n",
      "Decay Time: 0.560108\n",
      "DecayTime/RiseTime: 8.78146214509\n"
     ]
    },
    {
     "data": {
      "image/png": "[encoded data removed]",
      "text/plain": [
       "<matplotlib.figure.Figure at 0x7f9f189c17d0>"
      ]
     },
     "metadata": {},
     "output_type": "display_data"
    }
   ],
   "source": [
    "t = linspace(0,5,timeSteps)\n",
    "\n",
    "plotElectron, = plt.plot(t,crystalEventArray[:,1],label='Electron Temp')\n",
    "#plotPhonon, = plt.plot(t,crystalEventArray[:,0],label='Phonon Temp')\n",
    "#plotCrystal, = plt.plot(t,crystalEventArray[:,3],label='Crystal Temp')\n",
    "#plotHeater, = plt.plot(t,crystalEventArray[:,2],label='Heater Temp')\n",
    "#plotTeflon, = plt.plot(t,crystalEventArray[:,4],label='Teflon Temp')\n",
    "#plt.legend(handles=[plotElectron,plotPhonon,plotCrystal,plotHeater,plotTeflon])\n",
    "plt.xlabel('Time (s)')\n",
    "plt.ylabel('Voltage (Arb. Units)')\n",
    "plt.title('Crystal Event Pulse')\n",
    "#crystalFig = plt.gcf()\n",
    "#crystalFig.set_size_inches(6,4)\n",
    "#crystalFig.savefig('crystal_event_all.png',dpi=150)\n",
    "amplitude = np.amax(crystalEventArray[:,1])-s\n",
    "maxTemp = np.argmax(crystalEventArray[:,1])\n",
    "riseTime =  (5.0/(timeSteps))*len(zip(*np.where(np.logical_and((crystalEventArray[:maxTemp,1]-s)>=0.1*(amplitude),(crystalEventArray[:maxTemp,1]-s)<=0.9*(amplitude)))))\n",
    "decayTime =  (5.0/(timeSteps))*len(zip(*np.where(np.logical_and((crystalEventArray[maxTemp:,1]-s)>=0.3*(amplitude),(crystalEventArray[maxTemp:,1]-s)<=0.9*(amplitude)))))\n",
    "\n",
    "print \"Amplitude: \" + str(amplitude)\n",
    "print \"Rise Time: \" + str(riseTime)\n",
    "print \"Decay Time: \" + str(decayTime)\n",
    "print \"DecayTime/RiseTime: \" + str(decayTime/riseTime)"
   ]
  },
  {
   "cell_type": "markdown",
   "metadata": {},
   "source": [
    "### NTD Event"
   ]
  },
  {
   "cell_type": "code",
   "execution_count": 24,
   "metadata": {
    "scrolled": false
   },
   "outputs": [
    {
     "name": "stdout",
     "output_type": "stream",
     "text": [
      "Amplitude: 5.41108715231e-05\n",
      "Rise Time: 0.000801\n",
      "Decay Time: 0.05973\n",
      "DecayTime/RiseTime: 74.5692883895\n"
     ]
    },
    {
     "data": {
      "image/png": "[encoded data removed]",
      "text/plain": [
       "<matplotlib.figure.Figure at 0x7f9f19336c90>"
      ]
     },
     "metadata": {},
     "output_type": "display_data"
    }
   ],
   "source": [
    "t = linspace(0,5,timeSteps)\n",
    "plotElectron, = plt.plot(t,ntdEventArray[:,1],label='Electron Temp')\n",
    "#plotPhonon, = plt.plot(t,ntdEventArray[:,0],label='Phonon Temp')\n",
    "#plotCrystal, = plt.plot(t,ntdEventArray[:,3],label='Crystal Temp')\n",
    "#plotHeater, = plt.plot(t,ntdEventArray[:,2],label='Heater Temp')\n",
    "#plotTeflon, = plt.plot(t,ntdEventArray[:,4],label='Teflon Temp')\n",
    "#plt.legend(handles=[plotElectron,plotPhonon,plotCrystal,plotHeater,plotTeflon])\n",
    "plt.xlabel('Time (s)')\n",
    "plt.ylabel('Voltage (Arb. Units)')\n",
    "plt.title('NTD Event Pulse')\n",
    "#ntdFig = plt.gcf()\n",
    "#ntdFig.set_size_inches(6,4)\n",
    "#ntdFig.savefig('ntd_event_all.png',dpi=150)\n",
    "amplitude = np.amax(ntdEventArray[:,1])-s\n",
    "maxTemp = np.argmax(ntdEventArray[:,1])\n",
    "riseTime =  (5.0/(timeSteps))*len(zip(*np.where(np.logical_and((ntdEventArray[:maxTemp,1]-s)>=0.1*(amplitude),(ntdEventArray[:maxTemp,1]-s)<=0.9*(amplitude)))))\n",
    "decayTime =  (5.0/(timeSteps))*len(zip(*np.where(np.logical_and((ntdEventArray[maxTemp:,1]-s)>=0.3*(amplitude),(ntdEventArray[maxTemp:,1]-s)<=0.9*(amplitude)))))\n",
    "print \"Amplitude: \" + str(amplitude)\n",
    "print \"Rise Time: \" + str(riseTime)\n",
    "print \"Decay Time: \" + str(decayTime)\n",
    "print \"DecayTime/RiseTime: \" + str(decayTime/riseTime)"
   ]
  },
  {
   "cell_type": "markdown",
   "metadata": {
    "collapsed": true
   },
   "source": [
    "# Appendix"
   ]
  },
  {
   "cell_type": "code",
   "execution_count": 7,
   "metadata": {
    "collapsed": true
   },
   "outputs": [],
   "source": [
    "# euler method in 6 dimensions\n",
    "def euler(a, b, c, d, e, f, fa, fb, fc, fd, fe, ff, hs):\n",
    "\ta1 = fa(a, b, c, d, e, f)*hs\n",
    "\tb1 = fb(a, b, c, d, e, f)*hs\n",
    "\tc1 = fc(a, b, c, d, e, f)*hs\n",
    "\td1 = fd(a, b, c, d, e, f)*hs\n",
    "\te1 = fe(a, b, c, d, e, f)*hs\n",
    "\tf1 = ff(a, b, c, d, e, f)*hs\n",
    "\t#print 'diff'\n",
    "\t#print a1,b1,c1,d1,e1,f1\n",
    "\ta = a + a1\n",
    "\tb = b + b1\n",
    "\tc = c + c1\n",
    "\td = d + d1\n",
    "\te = e + e1\n",
    "\tf = f + f1\n",
    "\t#print 'actual'\n",
    "\t#print a,b,c,d,e,f\n",
    "\treturn a,b,c,d,e,f"
   ]
  },
  {
   "cell_type": "code",
   "execution_count": null,
   "metadata": {
    "collapsed": true
   },
   "outputs": [],
   "source": []
  }
 ],
 "metadata": {
  "kernelspec": {
   "display_name": "Python 2",
   "language": "python",
   "name": "python2"
  },
  "language_info": {
   "codemirror_mode": {
    "name": "ipython",
    "version": 2
   },
   "file_extension": ".py",
   "mimetype": "text/x-python",
   "name": "python",
   "nbconvert_exporter": "python",
   "pygments_lexer": "ipython2",
   "version": "2.7.12"
  }
 },
 "nbformat": 4,
 "nbformat_minor": 2
}
