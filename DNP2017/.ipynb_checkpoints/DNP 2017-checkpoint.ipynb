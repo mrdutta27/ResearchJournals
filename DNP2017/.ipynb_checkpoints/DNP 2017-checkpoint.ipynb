{
 "cells": [
  {
   "cell_type": "markdown",
   "metadata": {},
   "source": [
    "## Abstract"
   ]
  },
  {
   "cell_type": "markdown",
   "metadata": {},
   "source": [
    "### Characterizing Background Events in Neutron Transmutation Doped Thermistors for CUORE-0"
   ]
  },
  {
   "cell_type": "markdown",
   "metadata": {
    "collapsed": true
   },
   "source": [
    "The Cryogenic Underground Observatory for Rare Events (CUORE) is a ton-scale neutrinoless double-beta decay experiment operating at the Laboratori Nazionali del Gran Sasso (LNGS). The experiment is comprised of 988 TeO$_2$ bolometric crystals operated at a temperature of $\\sim$15 mK. A neutron-transmutation-doped (NTD) Ge thermistor is attached to each crystal to measure the thermal response from incident particles. However, bulk and surface contamination of the NTD thermistors produce unique thermal responses inside the volume. I will present a multifaceted approach to characterize these events. We developed a comprehensive hot-electron thermal model for the detector to generate template pulses. Using data from CUORE-0, a prototype experiment for CUORE, we implemented an optimal filter, then used pulse shape cuts to isolate prospective thermistor contamination events and to remove detector noise. We simulated direct contamination of the thermistors using the Geant4 Monte Carlo toolkit, and matched the spectral shape of the simulations to the spectrum of our prospective contamination events in order to approximate the energy scale of the latter. These results are then used to establish rates and to understand energy deposition of contamination inside the NTD thermistors."
   ]
  },
  {
   "cell_type": "markdown",
   "metadata": {
    "collapsed": true
   },
   "source": [
    "The Cryogenic Underground Observatory for Rare Events (CUORE) is a ton-scale neutrinoless double-beta decay experiment operating at the Laboratori Nazionali del Gran Sasso (LNGS). The experiment is comprised of 988 TeO$_2$ bolometric crystals arranged into 19 towers and operated at a temperature of $\\sim$15 mK. A neutron-transmutation-doped (NTD) Ge thermistor is attached to each crystal to measure the thermal response from incident particles. However, bulk and surface contamination of the NTD thermistors produce unique thermal responses inside the thermistor volume. I will present a multifaceted approach to characterize these events, which implements an improved hot-electron thermal model, Geant4 Monte Carlo simulations of background events, and data from a previous experiment, CUORE-0, reprocessed with a new optimal filter. Using this approach, we establish rates and measure energy deposition from contamination inside the NTD thermistors. These results can help us understand a significant background source in CUORE."
   ]
  },
  {
   "cell_type": "markdown",
   "metadata": {
    "collapsed": true
   },
   "source": [
    "The Cryogenic Underground Observatory for Rare Events (CUORE) is a ton-scale experiment searching for neutrinoless double-beta decay and other rare nuclear processes. CUORE is operating at the Laboratori Nazionali del Gran Sasso (LNGS) in Assergi, Italy, with a collaboration of 36 research institutions across Italy and the US. The experiment is comprised of 988 tellurium dioxide bolometric crystals with a fiducial mass of 206 kg, and operated at a temperature of 15 mK. A neutron-transmutation-doped (NTD) semiconducting thermistor is attached to each crystal to measure the thermal response from incident particles. However, background contamination of the NTD thermistors produce unique thermal responses inside the thermistor volume. I will present a multifaceted approach to characterize these events. I developed a comprehensive differential equation thermal model for the detector to generate template pulses. Using data from CUORE-0, a prototype experiment for CUORE, I implemented an optimal filter using signal processing techniques. Pulse shape cuts were used to isolate thermistor contamination events and to remove detector noise. I then simulated direct contamination of the thermistors using Monte Carlo Markov Chain simulations, and developed a proxy for calibration by matching spectral shapes of simulation and data. Using this approach, rates and energy deposition are measured from contamination inside the NTD thermistors. These results can help us understand a significant background source in CUORE."
   ]
  },
  {
   "cell_type": "markdown",
   "metadata": {},
   "source": [
    "## Individual Contribution Statement (200 Words)"
   ]
  },
  {
   "cell_type": "markdown",
   "metadata": {
    "collapsed": true
   },
   "source": [
    "I have been an undergraduate research assistant in the CUORE Collaboration since February 2016, and have become very familiar with the experiment. Last summer, I spent twelve weeks onsite in Assergi, Italy working directly with CUORE hardware and developing monitoring systems. I presented this work at last year's DNP Fall Meeting. Throughout the past year, I have been active on the CUORE thermal model working group, using numerical techniques and Monte Carlo simulations to improve our detector and start developing for CUPID, the next generation of our experiment.\n",
    "\n",
    "My past experience allowed me to independently develop and pursue the methodology for this project. With the help of my collaborators, I was able to improve the existing thermal model for CUORE, and use this to characterize certain events that had not been closely investigated by the collaboration yet. My knowledge of the analysis pipeline allowed me to repurpose much of the code and modify it for specific contamination events. My advisor, Professor Reina Maruyama, helped me make all of the spectrum analyses and calculations. I am currently writing an internal note on my work for the collaboration to use, and hope to publish my work as a first author."
   ]
  },
  {
   "cell_type": "markdown",
   "metadata": {},
   "source": [
    "## Poster Content"
   ]
  },
  {
   "cell_type": "markdown",
   "metadata": {},
   "source": [
    "### Introduction"
   ]
  },
  {
   "cell_type": "markdown",
   "metadata": {},
   "source": [
    "### Detector Setup (Graphics)"
   ]
  },
  {
   "cell_type": "markdown",
   "metadata": {},
   "source": [
    "### Thermal Model"
   ]
  },
  {
   "cell_type": "markdown",
   "metadata": {},
   "source": [
    "### Optimal Filtering"
   ]
  },
  {
   "cell_type": "markdown",
   "metadata": {},
   "source": [
    "### Pulse Shape Analysis"
   ]
  },
  {
   "cell_type": "markdown",
   "metadata": {},
   "source": [
    "### Geant4 Monte Carlo Normalization"
   ]
  },
  {
   "cell_type": "markdown",
   "metadata": {},
   "source": [
    "### Activity/Rate Calculations"
   ]
  },
  {
   "cell_type": "markdown",
   "metadata": {},
   "source": [
    "### Conclusions"
   ]
  },
  {
   "cell_type": "markdown",
   "metadata": {},
   "source": [
    "### Acknowledgements"
   ]
  },
  {
   "cell_type": "code",
   "execution_count": null,
   "metadata": {
    "collapsed": true
   },
   "outputs": [],
   "source": []
  },
  {
   "cell_type": "markdown",
   "metadata": {
    "collapsed": true
   },
   "source": [
    "The Cryogenic Underground Observatory for Rare Events (CUORE) is a ton-scale neutrinoless double-beta decay experiment operating at the Laboratori Nazionali del Gran Sasso (LNGS). CUORE-0, the predecessor to CUORE operated between {range}, was comprised of 52 TeO$_2$ bolometric crystals operated at a temperature of 10 mK. A neutron transmutation doped (NTD) Germanium thermistor is attached to each crystal to measure thermal fluctuations of incident events. However, bulk and surface NTD contamination contribute significantly to the background of CUORE-0. I will present a multifaceted approach to characterize these events. We developed a comprehensive hot-electron thermal model for the detector to generate template pulses and implement an effective optimal filter. The filtered pulse shapes are analyzed to make cuts and remove other sources of detector noise. We simulated background contamination using the Geant4 Monte Carlo toolkit, and used these spectra to normalize the energies of our NTD pulses as a proxy for calibration. Finally, we used a separate experimental setup with highly-contaminated thermistors to validate our results. "
   ]
  }
 ],
 "metadata": {
  "kernelspec": {
   "display_name": "Python 2",
   "language": "python",
   "name": "python2"
  },
  "language_info": {
   "codemirror_mode": {
    "name": "ipython",
    "version": 2
   },
   "file_extension": ".py",
   "mimetype": "text/x-python",
   "name": "python",
   "nbconvert_exporter": "python",
   "pygments_lexer": "ipython2",
   "version": "2.7.12"
  }
 },
 "nbformat": 4,
 "nbformat_minor": 2
}
