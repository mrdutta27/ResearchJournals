{
 "cells": [
  {
   "cell_type": "markdown",
   "metadata": {},
   "source": [
    "## Abstract"
   ]
  },
  {
   "cell_type": "markdown",
   "metadata": {},
   "source": [
    "### Characterizing Background Events in Neutron Transmutation Doped Thermistors for CUORE-0"
   ]
  },
  {
   "cell_type": "markdown",
   "metadata": {
    "collapsed": true
   },
   "source": [
    "The Cryogenic Underground Observatory for Rare Events (CUORE) is a ton-scale neutrinoless double-beta decay experiment operating at the Laboratori Nazionali del Gran Sasso (LNGS). CUORE-0, the predecessor to CUORE operated between {range}, was comprised of 52 TeO$_2$ bolometric crystals operated at a temperature of 10 mK. A neutron transmutation doped (NTD) Germanium thermistor is attached to each crystal to measure thermal fluctuations of incident events. However, bulk and surface NTD contamination contribute significantly to the background of CUORE-0. I will present a multifaceted approach to characterize these events. We developed a comprehensive hot-electron thermal model for the detector to generate template pulses and implement an effective optimal filter. The filtered pulse shapes are analyzed to make cuts and remove other sources of detector noise. We simulated background contamination using the Geant4 Monte Carlo toolkit, and used these spectra to normalize the energies of our NTD pulses as a proxy for calibration. Finally, we used a separate experimental setup with highly-contaminated thermistors to validate our results. "
   ]
  },
  {
   "cell_type": "markdown",
   "metadata": {},
   "source": [
    "### Characterizing Background Events in Neutron Transmutation Doped Thermistors for CUORE-0"
   ]
  },
  {
   "cell_type": "markdown",
   "metadata": {
    "collapsed": true
   },
   "source": [
    "The Cryogenic Underground Observatory for Rare Events (CUORE) is a ton-scale neutrinoless double-beta decay experiment operating at the Laboratori Nazionali del Gran Sasso (LNGS). The experiment is comprised of 988 TeO$_2$ bolometric crystals arranged into 19 towers and operated at a temperature of ~10 mK. A neutron transmutation doped (NTD) Germanium thermistor is attached to each crystal to measure thermal fluctuations of nuclear events. However, bulk and surface NTD contamination contribute significantly to the background of CUORE. I will present a multifaceted approach to characterize these events. We developed a comprehensive hot-electron thermal model for the detector to generate template pulses. Using data from CUORE-0, a prototype experiment for CUORE, we implemented an effective optimal filter and analyzed filtered pulse shapes to make cuts and remove other sources of detector noise. We simulated background contamination using the Geant4 Monte Carlo toolkit, and used these spectra to normalize the energies of our NTD pulses as a proxy for calibration. Finally, we used a separate experimental setup with highly-contaminated thermistors to validate our results. {Results and Conclusions}"
   ]
  },
  {
   "cell_type": "markdown",
   "metadata": {},
   "source": [
    "## Poster Content"
   ]
  },
  {
   "cell_type": "markdown",
   "metadata": {},
   "source": [
    "### Introduction"
   ]
  },
  {
   "cell_type": "markdown",
   "metadata": {},
   "source": [
    "### Detector Setup (Graphics)"
   ]
  },
  {
   "cell_type": "markdown",
   "metadata": {},
   "source": [
    "### Thermal Model"
   ]
  },
  {
   "cell_type": "markdown",
   "metadata": {},
   "source": [
    "### Optimal Filtering"
   ]
  },
  {
   "cell_type": "markdown",
   "metadata": {},
   "source": [
    "### Pulse Shape Analysis"
   ]
  },
  {
   "cell_type": "markdown",
   "metadata": {},
   "source": [
    "### Geant4 Monte Carlo Normalization"
   ]
  },
  {
   "cell_type": "markdown",
   "metadata": {},
   "source": [
    "### Activity/Rate Calculations"
   ]
  },
  {
   "cell_type": "markdown",
   "metadata": {},
   "source": [
    "### Conclusions"
   ]
  },
  {
   "cell_type": "markdown",
   "metadata": {},
   "source": [
    "### Acknowledgements"
   ]
  },
  {
   "cell_type": "code",
   "execution_count": null,
   "metadata": {
    "collapsed": true
   },
   "outputs": [],
   "source": []
  }
 ],
 "metadata": {
  "kernelspec": {
   "display_name": "Python 2",
   "language": "python",
   "name": "python2"
  },
  "language_info": {
   "codemirror_mode": {
    "name": "ipython",
    "version": 2
   },
   "file_extension": ".py",
   "mimetype": "text/x-python",
   "name": "python",
   "nbconvert_exporter": "python",
   "pygments_lexer": "ipython2",
   "version": "2.7.12"
  }
 },
 "nbformat": 4,
 "nbformat_minor": 2
}
