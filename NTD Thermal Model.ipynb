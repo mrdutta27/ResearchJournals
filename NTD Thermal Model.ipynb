{
 "cells": [
  {
   "cell_type": "markdown",
   "metadata": {},
   "source": [
    "# NTD Event Thermal Modeling"
   ]
  },
  {
   "cell_type": "markdown",
   "metadata": {},
   "source": [
    "## Intro"
   ]
  },
  {
   "cell_type": "markdown",
   "metadata": {},
   "source": [
    "For bolometer, K is the thermal conductivity of various resistances, such as ones found in glue or wires. It is related to temperature by a power law relation: $G(T) = G_0T^\\beta$. It can also be written as the time derivative of power $\\frac{dP}{dt}$, such that we can express power as $P(T)=\\int^T_{T_S} G(T') dT'$, where $T_s$ is the temperature of the heat sink. Using this, we can integrate the equation to get &nbsp; \n",
    "\n",
    "$$(T^{\\beta+1}-{T_s}^{\\beta+1}) = \\frac{\\beta+1}{G_0} P(T)$$"
   ]
  },
  {
   "cell_type": "markdown",
   "metadata": {},
   "source": [
    "In the small limit theorem ($\\Delta T \\ll T$) and if $T_s$ and conductances are constant, then we get &nbsp;\n",
    "\n",
    "$$C \\frac{dT}{dt} + K \\Delta T = \\Delta P$$"
   ]
  },
  {
   "cell_type": "markdown",
   "metadata": {},
   "source": [
    "## Thermal Model"
   ]
  },
  {
   "cell_type": "markdown",
   "metadata": {},
   "source": [
    "![title](images/vivekthermalmodel.png)"
   ]
  },
  {
   "cell_type": "markdown",
   "metadata": {},
   "source": [
    "### Temperature-Independent Power Conservation Equations: NTD Event"
   ]
  },
  {
   "cell_type": "markdown",
   "metadata": {},
   "source": [
    "$$\\textrm{Phonon: } C_{Phonon} \\frac{dT_{Phonon}}{dt} + K_{NTDGoldWire}(T_{Phonon}-T_{Bath}) - K_{NTDGlue} (T_{TeO_2} - T_{Phonon}) - K_{E-P Coupling} (T_{Electron} - T_{Phonon}) = \\Delta P_{NTD_{Event}}$$"
   ]
  },
  {
   "cell_type": "markdown",
   "metadata": {},
   "source": [
    "$$\\textrm{Electron: }C_{Electron} \\frac{dT_{Electron}}{dt}- \\Delta P_{ElectricalPower} + K_{E-PCoupling} (T_{Electron} - T_{Phonon})=0$$"
   ]
  },
  {
   "cell_type": "markdown",
   "metadata": {},
   "source": [
    "$$\\textrm{Heater: }C_{Heater} \\frac{dT_{Heater}}{dt}+K_{HeaterGoldWire}(T_{Heater}-T_{Bath})- K_{HeaterGlue} (T_{TeO_2} - T_{Heater}) = 0$$"
   ]
  },
  {
   "cell_type": "markdown",
   "metadata": {},
   "source": [
    "$$\\textrm{Crystal: } C_{Crystal} \\frac{dT_{Crystal}}{dt} + K_{HeaterGlue}(T_{TeO_2}-T_{Heater}) + K_{NTDGlue} (T_{TeO_2} - T_{NTDPhonon})+ K_{TeO_2 \\leftrightarrow Teflon} (T_{TeO_2} - T_{Teflon})=0$$"
   ]
  },
  {
   "cell_type": "markdown",
   "metadata": {},
   "source": [
    "$$\\textrm{Teflon: } C_{Teflon} \\frac{dT_{Teflon}}{dt} + K_{Teflon \\leftrightarrow bath}(T_{Teflon}-T_{Bath}) - K_{TeO_2 \\leftrightarrow Teflon} (T_{TeO_2} - T_{Teflon}) = 0$$"
   ]
  },
  {
   "cell_type": "markdown",
   "metadata": {},
   "source": [
    "### Adding Temperature Dependence"
   ]
  },
  {
   "cell_type": "markdown",
   "metadata": {},
   "source": [
    "#### Conductance"
   ]
  },
  {
   "cell_type": "markdown",
   "metadata": {},
   "source": [
    "Newer thermal model shows that conductance in materials is not constant. It has a power law relation with temperature such that:\n",
    "\n",
    "$$P = \\frac{K_0}{\\beta+1}(T_1^\\beta - T_0^\\beta)$$\n",
    "\n",
    "where $K_0$ is the capacitance of the material at $T = 1\\textrm{K}$."
   ]
  },
  {
   "cell_type": "markdown",
   "metadata": {},
   "source": [
    "#### Electrical Feedback"
   ]
  },
  {
   "cell_type": "markdown",
   "metadata": {},
   "source": [
    "<img src=\"images/circuit.png\" alt=\"circuit\" style=\"width: 300px;\"/>"
   ]
  },
  {
   "cell_type": "markdown",
   "metadata": {},
   "source": [
    "For our electrical feedback \"conductance\", we differentiate the expression for power $P = I^2R = V^2/R$, and using the circuit, we get: (Galeazzi)\n",
    "\n",
    "$$\\Delta P(T) = \\frac{P}{T} \\frac{R(T)-R_L}{R_L+R(T)} \\alpha \\Delta T $$\n",
    "\n",
    "The resistance of a thermistor is given by $R(T) = R_0 \\exp\\left(\\frac{T_0}{T}\\right)^\\gamma$ Using this, we rewrite feedback electrical power as the following: \n",
    "\n",
    "$$\\Delta P_{\\textrm{Electrical Power}}(T) = \\frac{\\beta}{T} \\left(\\frac{R_0 \\exp\\left(\\frac{T_0}{T}\\right)^\\gamma-R_L}{R_L+ R_0 \\exp\\left(\\frac{T_0}{T}\\right)^\\gamma}\\right) \\Delta T $$"
   ]
  },
  {
   "cell_type": "markdown",
   "metadata": {},
   "source": [
    "#### Capacitance"
   ]
  },
  {
   "cell_type": "markdown",
   "metadata": {},
   "source": [
    "Additionally, various heat capacitances also have temperature dependence based on the material. They are as follows:\n",
    "\n",
    "$$C_{Phonon} = \\alpha T^3 $$\n",
    "$$C_{Electron} = \\alpha T $$\n",
    "$$C_{Heater} = \\alpha T $$\n",
    "$$C_{Crystal} = \\alpha T^3 $$\n",
    "$$C_{Teflon} = \\alpha_1 T+  \\alpha_2 T^3 $$\n",
    "\n",
    "Rewriting the equations above, we get: "
   ]
  },
  {
   "cell_type": "markdown",
   "metadata": {},
   "source": [
    "$\\textrm{Phonon (a) : } \\alpha_a {T_a}^3 \\frac{dT_{a}}{dt}- \\frac{K_{\\textrm{0, NTD Glue}}}{\\beta_1+1}({T_{d}}^{\\beta_1+1} - {T_{a}}^{\\beta_1+1}) - \\frac{K_{\\textrm{0, E-P Coupling}}}{\\beta_2+1} ({T_{b}}^{\\beta_2+1} - {T_{a}}^{\\beta_2+1}) + \\frac{K_{\\textrm{0, NTD Gold Wire}}}{\\beta_3+1}({T_{a}}^{\\beta_3+1}-{T_{s}}^{\\beta_3+1})= \\Delta P_{\\textrm{NTD Event}}$"
   ]
  },
  {
   "cell_type": "markdown",
   "metadata": {},
   "source": [
    "$\\textrm{Electron (b) : }\\alpha_b T_b \\frac{dT_{b}}{dt}- \\frac{\\beta_8}{T_b} \\left(\\frac{R_0 \\exp\\left(\\frac{T_0}{T_b}\\right)^\\gamma-R_L}{R_L+ R_0 \\exp\\left(\\frac{T_0}{T_b}\\right)^\\gamma}\\right) ({T_{b}}- {T_{a}}) + \\frac{K_{\\textrm{0, E-P Coupling}}}{\\beta_2+1} ({T_{b}}^{\\beta_2+1} - {T_{a}}^{\\beta_2+1})=0$"
   ]
  },
  {
   "cell_type": "markdown",
   "metadata": {},
   "source": [
    "$\\textrm{Heater (c) : }\\alpha_c T_c \\frac{dT_{c}}{dt}-\\frac{K_{\\textrm{0, Heater Glue}}}{\\beta_4+1} ({T_{d}}^{\\beta_4+1} - {T_{c}}^{\\beta_4+1}) +\\frac{K_{\\textrm{0, Heater Gold Wire}}}{\\beta_5+1}({T_{c}}^{\\beta_5+1}-{T_{s}}^{\\beta_5+1}) = 0$"
   ]
  },
  {
   "cell_type": "markdown",
   "metadata": {},
   "source": [
    "$\\textrm{Crystal (d) : } \\alpha_d T_d^3 \\frac{dT_{d}}{dt} + \\frac{K_{\\textrm{0, NTD Glue}}}{\\beta_1+1} ({T_{d}}^{\\beta_1+1} - {T_{a}}^{\\beta_1+1}) + \\frac{K_{\\textrm{0, Heater Glue}}}{\\beta_4+1}({T_{d}}^{\\beta_4+1}-{T_{c}}^{\\beta_4+1}) + \\frac{K_{\\textrm{0, TeO}_2 \\leftrightarrow \\textrm{Teflon}}}{\\beta_6 +1} ({T_{d}}^{\\beta_6 +1} - {T_{e}}^{\\beta_6 +1})=0$"
   ]
  },
  {
   "cell_type": "markdown",
   "metadata": {},
   "source": [
    "$\\textrm{Teflon (e) : } (\\alpha_{e1}T+\\alpha_{e2}T^3) \\frac{dT_{e}}{dt}- \\frac{K_{\\textrm{0, TeO}_2 \\leftrightarrow \\textrm{Teflon}}}{\\beta_6+1} ({T_{d}}^{\\beta_6+1} - {T_{e}}^{\\beta_6+1})  + \\frac{K_{\\textrm{0, Teflon} \\leftrightarrow \\textrm{Sink}}}{\\beta_7+1}({T_{e}}^{\\beta_7+1}-{T_{s}}^{\\beta_7+1}) = 0$"
   ]
  },
  {
   "cell_type": "markdown",
   "metadata": {},
   "source": [
    "## Solving equations with Fourth Order Runge-Kutta Method"
   ]
  },
  {
   "cell_type": "markdown",
   "metadata": {},
   "source": [
    "4th Order Runge-Kutta Generator: https://www.codeproject.com/Tips/792927/Fourth-Order-Runge-Kutta-Method-in-Python"
   ]
  },
  {
   "cell_type": "code",
   "execution_count": 23,
   "metadata": {
    "collapsed": true
   },
   "outputs": [],
   "source": [
    "# fourth order Runge-Kutta method in 5 dimensions\n",
    "def rK5(a, b, c, d, e, fa, fb, fc, fd, fe, hs):\n",
    "\ta1 = fa(a, b, c, d, e)*hs\n",
    "\tb1 = fb(a, b, c, d, e)*hs\n",
    "\tc1 = fc(a, b, c, d, e)*hs\n",
    "\td1 = fd(a, b, c, d, e)*hs\n",
    "\te1 = fe(a, b, c, d, e)*hs\n",
    "\tak = a + a1*0.5\n",
    "\tbk = b + b1*0.5\n",
    "\tck = c + c1*0.5\n",
    "\tdk = d + d1*0.5\n",
    "\tek = e + e1*0.5\n",
    "\ta2 = fa(ak, bk, ck, dk, ek)*hs\n",
    "\tb2 = fb(ak, bk, ck, dk, ek)*hs\n",
    "\tc2 = fc(ak, bk, ck, dk, ek)*hs\n",
    "\td2 = fd(ak, bk, ck, dk, ek)*hs\n",
    "\te2 = fe(ak, bk, ck, dk, ek)*hs\n",
    "\tak = a + a2*0.5\n",
    "\tbk = b + b2*0.5\n",
    "\tck = c + c2*0.5\n",
    "\tdk = d + d2*0.5\n",
    "\tek = e + e2*0.5\n",
    "\ta3 = fa(ak, bk, ck, dk, ek)*hs\n",
    "\tb3 = fb(ak, bk, ck, dk, ek)*hs\n",
    "\tc3 = fc(ak, bk, ck, dk, ek)*hs\n",
    "\td3 = fd(ak, bk, ck, dk, ek)*hs\n",
    "\te3 = fe(ak, bk, ck, dk, ek)*hs\n",
    "\tak = a + a3\n",
    "\tbk = b + b3\n",
    "\tck = c + c3\n",
    "\tdk = d + d3\n",
    "\tek = e + e3\n",
    "\ta4 = fa(ak, bk, ck, dk, ek)*hs\n",
    "\tb4 = fb(ak, bk, ck, dk, ek)*hs\n",
    "\tc4 = fc(ak, bk, ck, dk, ek)*hs\n",
    "\td4 = fd(ak, bk, ck, dk, ek)*hs\n",
    "\te4 = fe(ak, bk, ck, dk, ek)*hs\n",
    "\ta = a + (a1 + 2*(a2 + a3) + a4)/6\n",
    "\tb = b + (b1 + 2*(b2 + b3) + b4)/6\n",
    "\tc = c + (c1 + 2*(c2 + c3) + c4)/6\n",
    "\td = d + (d1 + 2*(d2 + d3) + d4)/6\n",
    "\te = e + (e1 + 2*(e2 + e3) + e4)/6\n",
    "\treturn a, b, c, d, e"
   ]
  },
  {
   "cell_type": "code",
   "execution_count": 24,
   "metadata": {
    "collapsed": true
   },
   "outputs": [],
   "source": [
    "#define constants\n",
    "cap = [1,2,3,4,5]\n",
    "k = [1,2,3,4,5,6,7]\n",
    "ts = .001"
   ]
  },
  {
   "cell_type": "code",
   "execution_count": 36,
   "metadata": {
    "collapsed": true
   },
   "outputs": [],
   "source": [
    "#define equations\n",
    "\n",
    "def phonon(a,b,c,d,e):\n",
    "    return (k[0]*(d-a)+k[1]*(b-a)-k[2]*(a-ts))/cap[0]\n",
    "    \n",
    "def electron(a,b,c,d,e):\n",
    "    return (k[1]*(b-a))/cap[1]\n",
    "    \n",
    "def heater(a,b,c,d,e):\n",
    "    return (k[3]*(d-c)-k[4]*(c-ts))/cap[2]\n",
    "    \n",
    "def crystal(a,b,c,d,e):\n",
    "    return (-k[0]*(d-a)-k[3]*(d-c)-k[5]*(d-e))/cap[3]\n",
    "    \n",
    "def teflon(a,b,c,d,e):\n",
    "    return (k[5]*(d-e)-k[6]*(e-ts))/cap[4]"
   ]
  },
  {
   "cell_type": "code",
   "execution_count": 39,
   "metadata": {
    "collapsed": true
   },
   "outputs": [],
   "source": [
    "#run algorithm\n",
    "\n",
    "def getValues():\n",
    "    a,b,c,d,e,hs = 1.0,0.0,0.0,0.0,0.0,0.05\n",
    "    for i in range(20000):\n",
    "        a, b, c, d, e = rK5(a, b, c, d, e, phonon, electron, heater, crystal, teflon, hs)\n",
    "    print a,b,c,d,e"
   ]
  },
  {
   "cell_type": "code",
   "execution_count": 41,
   "metadata": {},
   "outputs": [
    {
     "name": "stdout",
     "output_type": "stream",
     "text": [
      "-2.21615939412e+301 -7.3116477183e+301 -7.86614780129e+299 -2.18102721855e+300 -7.93846507477e+299\n"
     ]
    }
   ],
   "source": [
    "getValues()"
   ]
  },
  {
   "cell_type": "code",
   "execution_count": null,
   "metadata": {
    "collapsed": true
   },
   "outputs": [],
   "source": []
  }
 ],
 "metadata": {
  "kernelspec": {
   "display_name": "Python 2",
   "language": "python",
   "name": "python2"
  },
  "language_info": {
   "codemirror_mode": {
    "name": "ipython",
    "version": 2
   },
   "file_extension": ".py",
   "mimetype": "text/x-python",
   "name": "python",
   "nbconvert_exporter": "python",
   "pygments_lexer": "ipython2",
   "version": "2.7.12"
  }
 },
 "nbformat": 4,
 "nbformat_minor": 2
}
