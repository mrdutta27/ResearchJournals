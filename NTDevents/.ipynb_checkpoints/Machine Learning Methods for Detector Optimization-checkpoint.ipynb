{
 "cells": [
  {
   "cell_type": "markdown",
   "metadata": {},
   "source": [
    "## Detector Optimization with Machine Learning\n",
    "\n",
    "#### Surya Dutta"
   ]
  },
  {
   "cell_type": "markdown",
   "metadata": {},
   "source": [
    "### Motivation\n",
    "\n",
    "Currently, the thermal models for CUORE can take in input parameters (conductances, capacitances, working temperature for heat sink, etc), run them through a stepwise differential equation solver (Runge-Kutta), and output a pulse. This **generative** model allows us to understand pulse shape characteristics and observe how changes in the parameters affects the pulse shape. However, it is impossible to get back the initial parameters we care about for detector optimization"
   ]
  },
  {
   "cell_type": "markdown",
   "metadata": {},
   "source": [
    "Let $X$ be the vector of initial inputs to our thermal model differential equations, and $Y$ be a vector of pulse characteristics to the output pulse. Right now, we can generate $Y$ given $X$, but not the other way around."
   ]
  },
  {
   "cell_type": "markdown",
   "metadata": {},
   "source": [
    "Our hope for detector optimization is to understand what values in $X$ give the best results for $Y$. This can be done by finding the **joint likelihood function** for $X$ and $Y$, given by the following equation:\n",
    "\n",
    "$$\n",
    "\\prod p(X_i,Y_i) = \\prod p(Y_i | X_i) \\prod p(X_i)\n",
    "$$"
   ]
  },
  {
   "cell_type": "markdown",
   "metadata": {},
   "source": [
    "The first term of this expansion, $p(Y_i,X_i)$ can be calculated with our thermal modelling. However, the second term, $p(X_i)$, is slightly harder. This is the probability that a certain set of parameters will take place in our detector - it can be approximated to some degree using the CUORE background models, but not too well (I think...)"
   ]
  },
  {
   "cell_type": "markdown",
   "metadata": {},
   "source": [
    "Let's rewrite the equation above, but change up the terms slightly:\n",
    "\n",
    "$$\n",
    "\\prod p(X_i,Y_i) = \\prod p(X_i | Y_i) \\prod p(Y_i)\n",
    "$$"
   ]
  },
  {
   "cell_type": "markdown",
   "metadata": {},
   "source": [
    "Here, the second term **is** calculatable by looking at our data directly, as it is just the probability that we will see some kind of pulse. However, the first term is now problematic as it is a calculation of the parameters given a pulse. This is where **machine learning** comes in. "
   ]
  },
  {
   "cell_type": "markdown",
   "metadata": {},
   "source": [
    "By modeling the relation between these output pulse and the intial inputs, we can create some parametric model that approximates $p(X_i | Y_i)$, and therefore gives us the joint distribution needed to optimize our detector. \n",
    "\n",
    "Additionally, calculating this term would also allow us to **classify the location of energy deposition**, and therefore make the IsSignal pulse shape analysis cut more accurate (or at least, validate existing algorithms)."
   ]
  },
  {
   "cell_type": "code",
   "execution_count": null,
   "metadata": {},
   "outputs": [],
   "source": []
  }
 ],
 "metadata": {
  "kernelspec": {
   "display_name": "Python 2",
   "language": "python",
   "name": "python2"
  },
  "language_info": {
   "codemirror_mode": {
    "name": "ipython",
    "version": 2
   },
   "file_extension": ".py",
   "mimetype": "text/x-python",
   "name": "python",
   "nbconvert_exporter": "python",
   "pygments_lexer": "ipython2",
   "version": "2.7.14"
  }
 },
 "nbformat": 4,
 "nbformat_minor": 2
}
