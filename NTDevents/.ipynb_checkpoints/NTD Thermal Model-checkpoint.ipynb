{
 "cells": [
  {
   "cell_type": "markdown",
   "metadata": {},
   "source": [
    "# NTD Event Thermal Modeling"
   ]
  },
  {
   "cell_type": "markdown",
   "metadata": {},
   "source": [
    "## Thermal Model"
   ]
  },
  {
   "cell_type": "markdown",
   "metadata": {},
   "source": [
    "![title](images/vivekthermalmodel.png)"
   ]
  },
  {
   "cell_type": "markdown",
   "metadata": {},
   "source": [
    "### Temperature-Independent Power Conservation Equations: NTD Event"
   ]
  },
  {
   "cell_type": "markdown",
   "metadata": {},
   "source": [
    "$\\textrm{Phonon: } C_{\\textrm{Phonon}} \\frac{dT_{\\textrm{Phonon}}}{dt} + K_{\\textrm{NTD Gold Wire}}(T_{\\textrm{Phonon}}-T_{\\textrm{Sink}}) - K_{\\textrm{NTD Glue}} (T_{\\textrm{TeO}_2} - T_{\\textrm{Phonon}}) - K_{\\textrm{E-P Coupling}} (T_{\\textrm{Electron}} - T_{\\textrm{Phonon}}) = P_{\\textrm{NTD Event}}$"
   ]
  },
  {
   "cell_type": "markdown",
   "metadata": {},
   "source": [
    "$\\textrm{Electron: }C_{\\textrm{Electron}} \\frac{dT_{\\textrm{Electron}}}{dt}- P_{\\textrm{Electrical Power}} + K_{\\textrm{E-P Coupling}} (T_{\\textrm{Electron}} - T_{\\textrm{Phonon}})=0$"
   ]
  },
  {
   "cell_type": "markdown",
   "metadata": {},
   "source": [
    "$\\textrm{Heater: }C_{\\textrm{Heater}} \\frac{dT_{\\textrm{Heater}}}{dt}+K_{\\textrm{Heater Gold Wire}}(T_{\\textrm{Heater}}-T_{\\textrm{Sink}})- K_{\\textrm{Heater Glue}} (T_{\\textrm{TeO}_2} - T_{\\textrm{Heater}}) = 0$"
   ]
  },
  {
   "cell_type": "markdown",
   "metadata": {},
   "source": [
    "$\\textrm{Crystal: } C_{\\textrm{Crystal}} \\frac{dT_{\\textrm{Crystal}}}{dt} + K_{\\textrm{Heater Glue}}(T_{\\textrm{TeO}_2}-T_{\\textrm{Heater}}) + K_{\\textrm{NTD Glue}} (T_{\\textrm{TeO}_2} - T_{\\textrm{NTD Phonon}})+ K_{\\textrm{TeO}_2 \\leftrightarrow \\textrm{Teflon}} (T_{\\textrm{TeO}_2} - T_{\\textrm{Teflon}})=0$"
   ]
  },
  {
   "cell_type": "markdown",
   "metadata": {},
   "source": [
    "$\\textrm{Teflon: } C_{\\textrm{Teflon}} \\frac{dT_{\\textrm{Teflon}}}{dt} + K_{\\textrm{Teflon} \\leftrightarrow \\textrm{Sink}}(T_{\\textrm{Teflon}}-T_{\\textrm{Sink}}) - K_{\\textrm{TeO}_2 \\leftrightarrow \\textrm{Teflon}} (T_{\\textrm{TeO}_2} - T_{\\textrm{Teflon}}) = 0$"
   ]
  },
  {
   "cell_type": "markdown",
   "metadata": {},
   "source": [
    "### Adding Temperature Dependence"
   ]
  },
  {
   "cell_type": "markdown",
   "metadata": {},
   "source": [
    "#### Conductance"
   ]
  },
  {
   "cell_type": "markdown",
   "metadata": {},
   "source": [
    "Conductance (K) is related to temperature by a power law relation: $K(T) = K_0T^\\beta$. It can also be written as the time derivative of power $\\frac{dP}{dt}$, such that we can express power as $P(T)=\\int^{T_2}_{T_1} K(T') dT'$, where $T_s$ is the temperature of the heat sink. Using this, we can integrate the equation to get &nbsp; \n",
    "\n",
    "$$({T_2}^{\\beta+1}-{T_1}^{\\beta+1}) = \\frac{\\beta+1}{K_0} P(T)$$\n",
    "\n",
    "where $K_0$ is the capacitance of the material at $T = 1\\textrm{K}$."
   ]
  },
  {
   "cell_type": "markdown",
   "metadata": {},
   "source": [
    "#### Capacitance"
   ]
  },
  {
   "cell_type": "markdown",
   "metadata": {},
   "source": [
    "Additionally, various heat capacitances also have temperature dependence based on the material. They are as follows:\n",
    "\n",
    "$$C_{Phonon} = \\alpha T^3 $$\n",
    "$$C_{Electron} = \\alpha T $$\n",
    "$$C_{Heater} = \\alpha T $$\n",
    "$$C_{Crystal} = \\alpha T^3 $$\n",
    "$$C_{Teflon} = \\alpha_1 T+  \\alpha_2 T^3 $$"
   ]
  },
  {
   "cell_type": "markdown",
   "metadata": {},
   "source": [
    "#### Electrical Feedback"
   ]
  },
  {
   "cell_type": "markdown",
   "metadata": {},
   "source": [
    "<img src=\"images/thermistor_biased.png\" alt=\"circuit\" style=\"width: 600px;\"/>"
   ]
  },
  {
   "cell_type": "markdown",
   "metadata": {},
   "source": [
    "Solving this circuit, we obtain (Vignati):\n",
    "\n",
    "$$ \\left[ \\frac{R_L + R(T)}{R(T)} \\right] V(T) - V_B + R_L c_p \\frac{dV(T)}{dt} = 0 $$\n",
    "\n",
    "The resistance of a thermistor is given by $R(T) = R_0 \\exp\\left(\\frac{T_0}{T}\\right)^\\gamma$. Therefore, we modify equation 2 above and add the differential equation for $V$. "
   ]
  },
  {
   "cell_type": "markdown",
   "metadata": {},
   "source": [
    "#### Putting It All Together"
   ]
  },
  {
   "cell_type": "markdown",
   "metadata": {},
   "source": [
    "$\\textrm{Phonon (a) : } \\alpha_a {T_a}^3 \\frac{dT_{a}}{dt}- \\frac{K_{\\textrm{0, NTD Glue}}}{\\beta_1+1}({T_{d}}^{\\beta_1+1} - {T_{a}}^{\\beta_1+1}) - \\frac{K_{\\textrm{0, E-P Coupling}}}{\\beta_2+1} ({T_{b}}^{\\beta_2+1} - {T_{a}}^{\\beta_2+1}) + \\frac{K_{\\textrm{0, NTD Gold Wire}}}{\\beta_3+1}({T_{a}}^{\\beta_3+1}-{T_{s}}^{\\beta_3+1})= P_{\\textrm{NTD Event}}$"
   ]
  },
  {
   "cell_type": "markdown",
   "metadata": {},
   "source": [
    "$\\textrm{Electron (b) : }\\alpha_b T_b \\frac{dT_{b}}{dt}- \\frac{{V(T)}^2 - {V_0(T)}^2}{R_0 \\exp\\left(\\frac{T_0}{T}\\right)^\\gamma} + \\frac{K_{\\textrm{0, E-P Coupling}}}{\\beta_2+1} ({T_{b}}^{\\beta_2+1} - {T_{a}}^{\\beta_2+1})=0$"
   ]
  },
  {
   "cell_type": "markdown",
   "metadata": {},
   "source": [
    "$\\textrm{Heater (c) : }\\alpha_c T_c \\frac{dT_{c}}{dt}-\\frac{K_{\\textrm{0, Heater Glue}}}{\\beta_4+1} ({T_{d}}^{\\beta_4+1} - {T_{c}}^{\\beta_4+1}) +\\frac{K_{\\textrm{0, Heater Gold Wire}}}{\\beta_5+1}({T_{c}}^{\\beta_5+1}-{T_{s}}^{\\beta_5+1}) = 0$"
   ]
  },
  {
   "cell_type": "markdown",
   "metadata": {},
   "source": [
    "$\\textrm{Crystal (d) : } \\alpha_d {T_d}^3 \\frac{dT_{d}}{dt} + \\frac{K_{\\textrm{0, NTD Glue}}}{\\beta_1+1} ({T_{d}}^{\\beta_1+1} - {T_{a}}^{\\beta_1+1}) + \\frac{K_{\\textrm{0, Heater Glue}}}{\\beta_4+1}({T_{d}}^{\\beta_4+1}-{T_{c}}^{\\beta_4+1}) + \\frac{K_{\\textrm{0, TeO}_2 \\leftrightarrow \\textrm{Teflon}}}{\\beta_6 +1} ({T_{d}}^{\\beta_6 +1} - {T_{e}}^{\\beta_6 +1})=0$"
   ]
  },
  {
   "cell_type": "markdown",
   "metadata": {},
   "source": [
    "$\\textrm{Teflon (e) : } (\\alpha_{e1}T_e+\\alpha_{e2}{T_e}^3) \\frac{dT_{e}}{dt}- \\frac{K_{\\textrm{0, TeO}_2 \\leftrightarrow \\textrm{Teflon}}}{\\beta_6+1} ({T_{d}}^{\\beta_6+1} - {T_{e}}^{\\beta_6+1})  + \\frac{K_{\\textrm{0, Teflon} \\leftrightarrow \\textrm{Sink}}}{\\beta_7+1}({T_{e}}^{\\beta_7+1}-{T_{s}}^{\\beta_7+1}) = 0$"
   ]
  },
  {
   "cell_type": "markdown",
   "metadata": {},
   "source": [
    "$\\textrm{Feedback Voltage (f) : }\\left[\\frac{R_L + R_0 \\exp\\left(\\frac{T_0}{T}\\right)^\\gamma}{R_0 \\exp\\left(\\frac{T_0}{T}\\right)^\\gamma} \\right] V(T) - V_B + R_L c_p \\frac{dV(T)}{dt} = 0$"
   ]
  },
  {
   "cell_type": "markdown",
   "metadata": {},
   "source": [
    "## Solving equations with Fourth Order Runge-Kutta Method"
   ]
  },
  {
   "cell_type": "markdown",
   "metadata": {},
   "source": [
    "Code to generate events can be found [here](../edit/eventGenerator.py)"
   ]
  },
  {
   "cell_type": "code",
   "execution_count": 1,
   "metadata": {},
   "outputs": [
    {
     "name": "stdout",
     "output_type": "stream",
     "text": [
      "Total Time: 5.0 seconds\n"
     ]
    }
   ],
   "source": [
    "from eventGenerator import *"
   ]
  },
  {
   "cell_type": "code",
   "execution_count": 2,
   "metadata": {},
   "outputs": [
    {
     "name": "stdout",
     "output_type": "stream",
     "text": [
      "+----------------+----------+\n",
      "|           Name |    Value |\n",
      "+----------------+----------+\n",
      "|  Capacitances  |          |\n",
      "|         Phonon | 9.11E-14 |\n",
      "|       Electron | 1.48E-10 |\n",
      "|         Heater | 1.50E-13 |\n",
      "|        Crystal | 2.47E-09 |\n",
      "|         Teflon | 6.42E-09 |\n",
      "|                |          |\n",
      "|  Conductances  |          |\n",
      "|       NTD Glue | 7.90E-09 |\n",
      "|    EP Coupling | 7.49E-09 |\n",
      "|       NTD Gold | 1.34E-09 |\n",
      "|    Heater Glue | 4.39E-09 |\n",
      "|    Heater Gold | 1.34E-09 |\n",
      "| Crystal-Teflon | 5.62E-09 |\n",
      "|    Teflon-Sink | 6.00E-09 |\n",
      "+----------------+----------+\n"
     ]
    }
   ],
   "source": [
    "getConstants() #output constants at base temp"
   ]
  },
  {
   "cell_type": "markdown",
   "metadata": {},
   "source": [
    "### Crystal Event"
   ]
  },
  {
   "cell_type": "code",
   "execution_count": 3,
   "metadata": {
    "scrolled": true
   },
   "outputs": [
    {
     "name": "stdout",
     "output_type": "stream",
     "text": [
      "100.0% | (05:28|-1:59)\r"
     ]
    }
   ],
   "source": [
    "getTemps('crystal')"
   ]
  },
  {
   "cell_type": "code",
   "execution_count": 53,
   "metadata": {},
   "outputs": [
    {
     "name": "stderr",
     "output_type": "stream",
     "text": [
      "/usr/local/lib/python2.7/dist-packages/ipykernel_launcher.py:16: VisibleDeprecationWarning: using a non-integer number instead of an integer will result in an error in the future\n",
      "  app.launch_new_instance()\n"
     ]
    },
    {
     "name": "stdout",
     "output_type": "stream",
     "text": [
      "620\n",
      "Amplitude: 0.000105166816101 K\n",
      "Rise Time: 0.056s\n",
      "Decay Time: 0.504s\n"
     ]
    },
    {
     "data": {
      "image/png": "[encoded data removed]",
      "text/plain": [
       "<matplotlib.figure.Figure at 0x7f21a5b0da50>"
      ]
     },
     "metadata": {},
     "output_type": "display_data"
    }
   ],
   "source": [
    "import math\n",
    "import pandas as pd\n",
    "import numpy as np\n",
    "%matplotlib inline\n",
    "import matplotlib\n",
    "import matplotlib.pyplot as plt\n",
    "from matplotlib.pylab import *\n",
    "import scipy\n",
    "from scipy import signal\n",
    "\n",
    "sampling = 8.0\n",
    "\n",
    "#import simulated pulse\n",
    "f=\"data/outputcrystal.csv\"\n",
    "crystalEventArray = np.genfromtxt(f, delimiter=',')\n",
    "crystalEventArray = crystalEventArray[0::sampling,:]\n",
    "\n",
    "#import test pulse\n",
    "avg='data/testPulse.csv'\n",
    "averagePulseArray = np.genfromtxt(avg,delimiter=\",\")\n",
    "averagePulseArray = averagePulseArray[:,1]\n",
    "\n",
    "#normalize test pulse amplitude\n",
    "amplitude = np.amax(electronPulseArray)-s\n",
    "avgAmp = np.amax(averagePulseArray) - np.amin(averagePulseArray)\n",
    "normAvgPulseArray = np.multiply((amplitude/avgAmp),averagePulseArray)\n",
    "normavgAmp = np.amax(normAvgPulseArray) - np.amin(normAvgPulseArray)\n",
    "normAvgPulseArray = np.subtract(normAvgPulseArray,np.amin(normAvgPulseArray)-s)\n",
    "\n",
    "#fit rise times\n",
    "maxTemp = np.argmax(electronPulseArray)\n",
    "maxAvgTemp = np.argmax(normAvgPulseArray)\n",
    "\n",
    "riseArray = (zip(*np.where(np.logical_and((electronPulseArray[:maxTemp]-s)>=0.1*(amplitude),(electronPulseArray[:maxTemp]-s)<=0.9*(amplitude)))))\n",
    "riseAvgArray = (zip(*np.where(np.logical_and((normAvgPulseArray[:maxAvgTemp]-s)>=0.1*(amplitude),(normAvgPulseArray[:maxAvgTemp]-s)<=0.9*(amplitude)))))\n",
    "\n",
    "delay = int((((riseAvgArray[0][0] - riseArray[0][0])+(riseAvgArray[-1][0] -  riseArray[-1][0]))/2))\n",
    "timeDelay = sampling*delay*1e-3\n",
    "\n",
    "normAvgPulseArray = normAvgPulseArray[delay:]\n",
    "crystalEventArray = crystalEventArray[:-delay]\n",
    "\n",
    "#apply bessel filters to simulated pulse\n",
    "def bessel_lowpass(cutoff, fs, order):\n",
    "    nyq = 0.5 * fs\n",
    "    normal_cutoff = cutoff / nyq\n",
    "    b, a = signal.bessel(order, normal_cutoff, btype='low', analog=False)\n",
    "    return b, a\n",
    "\n",
    "def bessel_lowpass_filter(data, cutoff, fs, order):\n",
    "    b, a = bessel_lowpass(cutoff, fs, order)\n",
    "    y = signal.filtfilt(b, a, data)\n",
    "    return y\n",
    "\n",
    "cutoff = 24\n",
    "samplingRate = 1.0/(sampling*dur)\n",
    "order = 4\n",
    "\n",
    "timeArray = crystalEventArray[:,0]\n",
    "phononPulseArray = bessel_lowpass_filter(crystalEventArray[:,1],cutoff,samplingRate,order)\n",
    "electronPulseArray = bessel_lowpass_filter(crystalEventArray[:,2],cutoff,samplingRate,order)\n",
    "heaterPulseArray = bessel_lowpass_filter(crystalEventArray[:,3],cutoff,samplingRate,order)\n",
    "crystalPulseArray = bessel_lowpass_filter(crystalEventArray[:,4],cutoff,samplingRate,order)\n",
    "teflonPulseArray = bessel_lowpass_filter(crystalEventArray[:,5],cutoff,samplingRate,order)\n",
    "\n",
    "#setup simulated pulse and average pulse parameters\n",
    "t = linspace(0,5-timeDelay,int((5000/sampling)+1-delay))\n",
    "print len(t)\n",
    "fig1 = plt.figure(0)\n",
    "frame1=fig1.add_axes((.1,.3,.8,.6))\n",
    "\n",
    "start = 0\n",
    "end = 626\n",
    "\n",
    "#plotPhonon, = plt.plot(t,phononPulseArray,label='Phonon Temp')\n",
    "#plotCrystal, = plt.plot(t,crystalPulseArray,label='Crystal Temp')\n",
    "#plotHeater, = plt.plot(t,heaterPulseArray,label='Heater Temp')\n",
    "plotTeflon, = plt.plot(t[start:end],teflonPulseArray[start:end],label='Teflon Temp')\n",
    "plotElectron, = plt.plot(t[start:end],electronPulseArray[start:end],label='Electron Temp')\n",
    "\n",
    "plotAverage, = plt.plot(t[start:end],normAvgPulseArray[start:end],'--',label='Average Pulse',)\n",
    "\n",
    "\n",
    "#plt.legend(handles=[plotElectron,plotAverage])\n",
    "plt.legend(handles=[plotElectron,plotTeflon,plotAverage])\n",
    "\n",
    "plt.ylabel('Temperature (K)')\n",
    "plt.title('Crystal Event Pulse')\n",
    "riseTime =  (1e3*stepSize*sampling)*len(zip(*np.where(np.logical_and((electronPulseArray[:maxTemp]-s)>=0.1*(amplitude),(electronPulseArray[:maxTemp]-s)<=0.9*(amplitude)))))\n",
    "decayTime =  (1e3*stepSize*sampling)*len(zip(*np.where(np.logical_and((electronPulseArray[maxTemp:]-s)>=0.3*(amplitude),(electronPulseArray[maxTemp:]-s)<=0.9*(amplitude)))))\n",
    "\n",
    "print \"Amplitude: \" + str(amplitude) + ' K'\n",
    "print \"Rise Time: \" + str(riseTime) + 's'\n",
    "print \"Decay Time: \" + str(decayTime) + 's'\n",
    "\n",
    "residualArray=[]\n",
    "#normalized residual function\n",
    "for i in range(int((5000/sampling)+1-delay)):\n",
    "    residualValue = (electronPulseArray[i]-normAvgPulseArray[i])#/normAvgPulseArray[i+delay]\n",
    "    residualArray.append(residualValue)\n",
    "    \n",
    "frame2=fig1.add_axes((.1,.1,.8,.2))  \n",
    "\n",
    "plotResidual = plt.plot(t[start:end],residualArray[start:end])\n",
    "plt.xlabel('Time (s)')\n",
    "\n",
    "crystalFig = plt.gcf()\n",
    "crystalFig.set_size_inches(6,4)\n",
    "crystalFig.savefig('images/crystal_event.png',dpi=300)\n"
   ]
  },
  {
   "cell_type": "markdown",
   "metadata": {},
   "source": [
    "### NTD Event"
   ]
  },
  {
   "cell_type": "code",
   "execution_count": 5,
   "metadata": {
    "scrolled": true
   },
   "outputs": [
    {
     "name": "stdout",
     "output_type": "stream",
     "text": [
      "100.0% | (05:27|-1:59)\r"
     ]
    }
   ],
   "source": [
    "getTemps('ntd')"
   ]
  },
  {
   "cell_type": "code",
   "execution_count": 57,
   "metadata": {},
   "outputs": [
    {
     "name": "stderr",
     "output_type": "stream",
     "text": [
      "/usr/local/lib/python2.7/dist-packages/ipykernel_launcher.py:16: VisibleDeprecationWarning: using a non-integer number instead of an integer will result in an error in the future\n",
      "  app.launch_new_instance()\n"
     ]
    },
    {
     "name": "stdout",
     "output_type": "stream",
     "text": [
      "Amplitude: 0.00056569238594 K\n",
      "Rise Time: 0.048s\n",
      "Decay Time: 0.064s\n"
     ]
    },
    {
     "data": {
      "image/png": "[encoded data removed]",
      "text/plain": [
       "<matplotlib.figure.Figure at 0x7f21a565d1d0>"
      ]
     },
     "metadata": {},
     "output_type": "display_data"
    }
   ],
   "source": [
    "import math\n",
    "import pandas as pd\n",
    "import numpy as np\n",
    "%matplotlib inline\n",
    "import matplotlib\n",
    "import matplotlib.pyplot as plt\n",
    "from matplotlib.pylab import *\n",
    "import scipy\n",
    "from scipy import signal\n",
    "\n",
    "sampling = 8.0\n",
    "\n",
    "#import simulated pulse\n",
    "f=\"data/outputntd.csv\"\n",
    "ntdEventArray = np.genfromtxt(f, delimiter=',')\n",
    "ntdEventArray = ntdEventArray[0::sampling,:]\n",
    "\n",
    "#apply bessel filters to simulated pulse\n",
    "def bessel_lowpass(cutoff, fs, order):\n",
    "    nyq = 0.5 * fs\n",
    "    normal_cutoff = cutoff / nyq\n",
    "    b, a = signal.bessel(order, normal_cutoff, btype='low', analog=False)\n",
    "    return b, a\n",
    "\n",
    "def bessel_lowpass_filter(data, cutoff, fs, order):\n",
    "    b, a = bessel_lowpass(cutoff, fs, order)\n",
    "    y = signal.filtfilt(b, a, data)\n",
    "    return y\n",
    "\n",
    "cutoff = 12\n",
    "samplingRate = 1.0/(sampling*dur)\n",
    "order = 4\n",
    "\n",
    "timeArray = ntdEventArray[:,0]\n",
    "phononPulseArray = bessel_lowpass_filter(ntdEventArray[:,1],cutoff,samplingRate,order)\n",
    "electronPulseArray = bessel_lowpass_filter(ntdEventArray[:,2],cutoff,samplingRate,order)\n",
    "heaterPulseArray = bessel_lowpass_filter(ntdEventArray[:,3],cutoff,samplingRate,order)\n",
    "crystalPulseArray = bessel_lowpass_filter(ntdEventArray[:,4],cutoff,samplingRate,order)\n",
    "teflonPulseArray = bessel_lowpass_filter(ntdEventArray[:,5],cutoff,samplingRate,order)\n",
    "\n",
    "amplitude = np.amax(electronPulseArray)-s\n",
    "maxTemp = np.argmax(electronPulseArray)\n",
    "t = linspace(0,5,int((5000/sampling)+1))\n",
    "\n",
    "fig1 = plt.figure(0)\n",
    "\n",
    "#plotPhonon, = plt.plot(t,phononPulseArray,label='Phonon Temp')\n",
    "#plotCrystal, = plt.plot(t,crystalPulseArray,label='Crystal Temp')\n",
    "#plotHeater, = plt.plot(t,heaterPulseArray,label='Heater Temp')\n",
    "#plotTeflon, = plt.plot(t,teflonPulseArray,label='Teflon Temp')\n",
    "plotElectron, = plt.plot(t,electronPulseArray,label='Electron Temp')\n",
    "\n",
    "#plt.legend(handles=[plotElectron,plotAverage])\n",
    "\n",
    "plt.ylabel('Temperature (K)')\n",
    "plt.title('NTD Event Pulse')\n",
    "riseTime =  (1e3*stepSize*sampling)*len(zip(*np.where(np.logical_and((electronPulseArray[:maxTemp]-s)>=0.1*(amplitude),(electronPulseArray[:maxTemp]-s)<=0.9*(amplitude)))))\n",
    "decayTime =  (1e3*stepSize*sampling)*len(zip(*np.where(np.logical_and((electronPulseArray[maxTemp:]-s)>=0.3*(amplitude),(electronPulseArray[maxTemp:]-s)<=0.9*(amplitude)))))\n",
    "\n",
    "print \"Amplitude: \" + str(amplitude) + ' K'\n",
    "print \"Rise Time: \" + str(riseTime) + 's'\n",
    "print \"Decay Time: \" + str(decayTime) + 's'\n",
    "\n",
    "ntdFig = plt.gcf()\n",
    "ntdFig.set_size_inches(6,4)\n",
    "ntdFig.savefig('images/ntd_event.png',dpi=300)\n"
   ]
  },
  {
   "cell_type": "markdown",
   "metadata": {
    "collapsed": true
   },
   "source": [
    "# Appendix"
   ]
  },
  {
   "cell_type": "code",
   "execution_count": 7,
   "metadata": {
    "collapsed": true
   },
   "outputs": [],
   "source": [
    "# euler method in 6 dimensions\n",
    "def euler(a, b, c, d, e, f, fa, fb, fc, fd, fe, ff, hs):\n",
    "\ta1 = fa(a, b, c, d, e, f)*hs\n",
    "\tb1 = fb(a, b, c, d, e, f)*hs\n",
    "\tc1 = fc(a, b, c, d, e, f)*hs\n",
    "\td1 = fd(a, b, c, d, e, f)*hs\n",
    "\te1 = fe(a, b, c, d, e, f)*hs\n",
    "\tf1 = ff(a, b, c, d, e, f)*hs\n",
    "\t#print 'diff'\n",
    "\t#print a1,b1,c1,d1,e1,f1\n",
    "\ta = a + a1\n",
    "\tb = b + b1\n",
    "\tc = c + c1\n",
    "\td = d + d1\n",
    "\te = e + e1\n",
    "\tf = f + f1\n",
    "\t#print 'actual'\n",
    "\t#print a,b,c,d,e,f\n",
    "\treturn a,b,c,d,e,f"
   ]
  },
  {
   "cell_type": "code",
   "execution_count": null,
   "metadata": {
    "collapsed": true
   },
   "outputs": [],
   "source": []
  }
 ],
 "metadata": {
  "kernelspec": {
   "display_name": "Python 2",
   "language": "python",
   "name": "python2"
  },
  "language_info": {
   "codemirror_mode": {
    "name": "ipython",
    "version": 2
   },
   "file_extension": ".py",
   "mimetype": "text/x-python",
   "name": "python",
   "nbconvert_exporter": "python",
   "pygments_lexer": "ipython2",
   "version": "2.7.12"
  }
 },
 "nbformat": 4,
 "nbformat_minor": 2
}
