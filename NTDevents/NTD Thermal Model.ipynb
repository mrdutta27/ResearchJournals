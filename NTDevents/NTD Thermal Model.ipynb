{
 "cells": [
  {
   "cell_type": "markdown",
   "metadata": {},
   "source": [
    "# NTD Event Thermal Modeling"
   ]
  },
  {
   "cell_type": "markdown",
   "metadata": {},
   "source": [
    "## Thermal Model"
   ]
  },
  {
   "cell_type": "markdown",
   "metadata": {},
   "source": [
    "![title](images/vivekthermalmodel.png)"
   ]
  },
  {
   "cell_type": "markdown",
   "metadata": {},
   "source": [
    "### Temperature-Independent Power Conservation Equations: NTD Event"
   ]
  },
  {
   "cell_type": "markdown",
   "metadata": {},
   "source": [
    "$\\textrm{Phonon: } C_{\\textrm{Phonon}} \\frac{dT_{\\textrm{Phonon}}}{dt} + K_{\\textrm{NTD Gold Wire}}(T_{\\textrm{Phonon}}-T_{\\textrm{Sink}}) - K_{\\textrm{NTD Glue}} (T_{\\textrm{TeO}_2} - T_{\\textrm{Phonon}}) - K_{\\textrm{E-P Coupling}} (T_{\\textrm{Electron}} - T_{\\textrm{Phonon}}) = P_{\\textrm{NTD Event}}$"
   ]
  },
  {
   "cell_type": "markdown",
   "metadata": {},
   "source": [
    "$\\textrm{Electron: }C_{\\textrm{Electron}} \\frac{dT_{\\textrm{Electron}}}{dt}- P_{\\textrm{Electrical Power}} + K_{\\textrm{E-P Coupling}} (T_{\\textrm{Electron}} - T_{\\textrm{Phonon}})=0$"
   ]
  },
  {
   "cell_type": "markdown",
   "metadata": {},
   "source": [
    "$\\textrm{Heater: }C_{\\textrm{Heater}} \\frac{dT_{\\textrm{Heater}}}{dt}+K_{\\textrm{Heater Gold Wire}}(T_{\\textrm{Heater}}-T_{\\textrm{Sink}})- K_{\\textrm{Heater Glue}} (T_{\\textrm{TeO}_2} - T_{\\textrm{Heater}}) = 0$"
   ]
  },
  {
   "cell_type": "markdown",
   "metadata": {},
   "source": [
    "$\\textrm{Crystal: } C_{\\textrm{Crystal}} \\frac{dT_{\\textrm{Crystal}}}{dt} + K_{\\textrm{Heater Glue}}(T_{\\textrm{TeO}_2}-T_{\\textrm{Heater}}) + K_{\\textrm{NTD Glue}} (T_{\\textrm{TeO}_2} - T_{\\textrm{NTD Phonon}})+ K_{\\textrm{TeO}_2 \\leftrightarrow \\textrm{Teflon}} (T_{\\textrm{TeO}_2} - T_{\\textrm{Teflon}})=0$"
   ]
  },
  {
   "cell_type": "markdown",
   "metadata": {},
   "source": [
    "$\\textrm{Teflon: } C_{\\textrm{Teflon}} \\frac{dT_{\\textrm{Teflon}}}{dt} + K_{\\textrm{Teflon} \\leftrightarrow \\textrm{Sink}}(T_{\\textrm{Teflon}}-T_{\\textrm{Sink}}) - K_{\\textrm{TeO}_2 \\leftrightarrow \\textrm{Teflon}} (T_{\\textrm{TeO}_2} - T_{\\textrm{Teflon}}) = 0$"
   ]
  },
  {
   "cell_type": "markdown",
   "metadata": {},
   "source": [
    "### Adding Temperature Dependence"
   ]
  },
  {
   "cell_type": "markdown",
   "metadata": {},
   "source": [
    "#### Conductance"
   ]
  },
  {
   "cell_type": "markdown",
   "metadata": {},
   "source": [
    "Conductance (K) is related to temperature by a power law relation: $K(T) = K_0T^\\beta$. It can also be written as the time derivative of power $\\frac{dP}{dt}$, such that we can express power as $P(T)=\\int^{T_2}_{T_1} K(T') dT'$, where $T_s$ is the temperature of the heat sink. Using this, we can integrate the equation to get &nbsp; \n",
    "\n",
    "$$({T_2}^{\\beta+1}-{T_1}^{\\beta+1}) = \\frac{\\beta+1}{K_0} P(T)$$\n",
    "\n",
    "where $K_0$ is the capacitance of the material at $T = 1\\textrm{K}$."
   ]
  },
  {
   "cell_type": "markdown",
   "metadata": {},
   "source": [
    "#### Capacitance"
   ]
  },
  {
   "cell_type": "markdown",
   "metadata": {},
   "source": [
    "Additionally, various heat capacitances also have temperature dependence based on the material. They are as follows:\n",
    "\n",
    "$$C_{Phonon} = \\alpha T^3 $$\n",
    "$$C_{Electron} = \\alpha T $$\n",
    "$$C_{Heater} = \\alpha T $$\n",
    "$$C_{Crystal} = \\alpha T^3 $$\n",
    "$$C_{Teflon} = \\alpha_1 T+  \\alpha_2 T^3 $$"
   ]
  },
  {
   "cell_type": "markdown",
   "metadata": {},
   "source": [
    "#### Electrical Feedback"
   ]
  },
  {
   "cell_type": "markdown",
   "metadata": {},
   "source": [
    "<img src=\"images/thermistor_biased.png\" alt=\"circuit\" style=\"width: 600px;\"/>"
   ]
  },
  {
   "cell_type": "markdown",
   "metadata": {},
   "source": [
    "Solving this circuit, we obtain (Vignati):\n",
    "\n",
    "$$ \\left[ \\frac{R_L + R(T)}{R(T)} \\right] V(T) - V_B + R_L c_p \\frac{dV(T)}{dt} = 0 $$\n",
    "\n",
    "The resistance of a thermistor is given by $R(T) = R_0 \\exp\\left(\\frac{T_0}{T}\\right)^\\gamma$. Therefore, we modify equation 2 above and add the differential equation for $V$. "
   ]
  },
  {
   "cell_type": "markdown",
   "metadata": {},
   "source": [
    "#### Putting It All Together"
   ]
  },
  {
   "cell_type": "markdown",
   "metadata": {},
   "source": [
    "$\\textrm{Phonon (a) : } \\alpha_a {T_a}^3 \\frac{dT_{a}}{dt}- \\frac{K_{\\textrm{0, NTD Glue}}}{\\beta_1+1}({T_{d}}^{\\beta_1+1} - {T_{a}}^{\\beta_1+1}) - \\frac{K_{\\textrm{0, E-P Coupling}}}{\\beta_2+1} ({T_{b}}^{\\beta_2+1} - {T_{a}}^{\\beta_2+1}) + \\frac{K_{\\textrm{0, NTD Gold Wire}}}{\\beta_3+1}({T_{a}}^{\\beta_3+1}-{T_{s}}^{\\beta_3+1})= P_{\\textrm{NTD Event}}$"
   ]
  },
  {
   "cell_type": "markdown",
   "metadata": {},
   "source": [
    "$\\textrm{Electron (b) : }\\alpha_b T_b \\frac{dT_{b}}{dt}- \\frac{{V(T)}^2 - {V_0(T)}^2}{R_0 \\exp\\left(\\frac{T_0}{T}\\right)^\\gamma} + \\frac{K_{\\textrm{0, E-P Coupling}}}{\\beta_2+1} ({T_{b}}^{\\beta_2+1} - {T_{a}}^{\\beta_2+1})=0$"
   ]
  },
  {
   "cell_type": "markdown",
   "metadata": {},
   "source": [
    "$\\textrm{Heater (c) : }\\alpha_c T_c \\frac{dT_{c}}{dt}-\\frac{K_{\\textrm{0, Heater Glue}}}{\\beta_4+1} ({T_{d}}^{\\beta_4+1} - {T_{c}}^{\\beta_4+1}) +\\frac{K_{\\textrm{0, Heater Gold Wire}}}{\\beta_5+1}({T_{c}}^{\\beta_5+1}-{T_{s}}^{\\beta_5+1}) = 0$"
   ]
  },
  {
   "cell_type": "markdown",
   "metadata": {},
   "source": [
    "$\\textrm{Crystal (d) : } \\alpha_d {T_d}^3 \\frac{dT_{d}}{dt} + \\frac{K_{\\textrm{0, NTD Glue}}}{\\beta_1+1} ({T_{d}}^{\\beta_1+1} - {T_{a}}^{\\beta_1+1}) + \\frac{K_{\\textrm{0, Heater Glue}}}{\\beta_4+1}({T_{d}}^{\\beta_4+1}-{T_{c}}^{\\beta_4+1}) + \\frac{K_{\\textrm{0, TeO}_2 \\leftrightarrow \\textrm{Teflon}}}{\\beta_6 +1} ({T_{d}}^{\\beta_6 +1} - {T_{e}}^{\\beta_6 +1})=0$"
   ]
  },
  {
   "cell_type": "markdown",
   "metadata": {},
   "source": [
    "$\\textrm{Teflon (e) : } (\\alpha_{e1}T_e+\\alpha_{e2}{T_e}^3) \\frac{dT_{e}}{dt}- \\frac{K_{\\textrm{0, TeO}_2 \\leftrightarrow \\textrm{Teflon}}}{\\beta_6+1} ({T_{d}}^{\\beta_6+1} - {T_{e}}^{\\beta_6+1})  + \\frac{K_{\\textrm{0, Teflon} \\leftrightarrow \\textrm{Sink}}}{\\beta_7+1}({T_{e}}^{\\beta_7+1}-{T_{s}}^{\\beta_7+1}) = 0$"
   ]
  },
  {
   "cell_type": "markdown",
   "metadata": {},
   "source": [
    "$\\textrm{Feedback Voltage (f) : }\\left[\\frac{R_L + R_0 \\exp\\left(\\frac{T_0}{T}\\right)^\\gamma}{R_0 \\exp\\left(\\frac{T_0}{T}\\right)^\\gamma} \\right] V(T) - V_B + R_L c_p \\frac{dV(T)}{dt} = 0$"
   ]
  },
  {
   "cell_type": "markdown",
   "metadata": {},
   "source": [
    "## Solving equations with Fourth Order Runge-Kutta Method"
   ]
  },
  {
   "cell_type": "code",
   "execution_count": 3,
   "metadata": {
    "collapsed": true
   },
   "outputs": [],
   "source": [
    "import math\n",
    "import numpy as np\n",
    "%matplotlib inline\n",
    "import matplotlib\n",
    "import matplotlib.pyplot as plt\n",
    "from matplotlib.pylab import *\n",
    "from tqdm import tnrange, tqdm_notebook\n",
    "\n",
    "#define constants\n",
    "alpha = [2.7e-8,9.9e-9,1e-11,9.14e3,4.28e-7,0]\n",
    "beta = [3,5,2.4,3,2.4,2,1]\n",
    "k = [2.34e-3,1.4,3.2e-5,1.3e-3,3.2e-5,4e-5,1.25e-7]\n",
    "\n",
    "s = .015\n",
    "R0 = 1.15\n",
    "Rl = 6e10 \n",
    "T0 = 3.35\n",
    "gamma = 0.5\n",
    "Vb = 5 \n",
    "Cp = 5e-10"
   ]
  },
  {
   "cell_type": "code",
   "execution_count": 6,
   "metadata": {},
   "outputs": [
    {
     "name": "stdout",
     "output_type": "stream",
     "text": [
      "+----------------+----------+\n",
      "|           Name |    Value |\n",
      "+----------------+----------+\n",
      "|  Capacitances  |          |\n",
      "|         Phonon | 9.11E-14 |\n",
      "|       Electron | 1.48E-10 |\n",
      "|         Heater | 1.50E-13 |\n",
      "|        Crystal | 2.47E-09 |\n",
      "|         Teflon | 6.42E-09 |\n",
      "|                |          |\n",
      "|  Conductances  |          |\n",
      "|       NTD Glue | 7.90E-09 |\n",
      "|    EP Coupling | 1.06E-09 |\n",
      "|       NTD Gold | 1.34E-09 |\n",
      "|    Heater Glue | 4.39E-09 |\n",
      "|    Heater Gold | 1.34E-09 |\n",
      "| Crystal-Teflon | 9.00E-09 |\n",
      "|    Teflon-Sink | 1.87E-09 |\n",
      "+----------------+----------+\n"
     ]
    }
   ],
   "source": [
    "#output constants at base temp\n",
    "from decimal import Decimal\n",
    "from prettytable import PrettyTable\n",
    "t = PrettyTable(['Name','Value'])\n",
    "t.add_row([ \"Capacitances \",\"\"])\n",
    "t.add_row([ \"Phonon\" , '%.2E' % Decimal(alpha[0]*(s**3))])\n",
    "t.add_row([ \"Electron\" , '%.2E' % Decimal(alpha[1]*(s))])\n",
    "t.add_row([ \"Heater\" , '%.2E' % Decimal(alpha[2]*s)])\n",
    "t.add_row([ \"Crystal\" , '%.2E' % Decimal(alpha[3]*((s/232.0)**3))])\n",
    "t.add_row([ \"Teflon\" , '%.2E' % Decimal((alpha[4]*s) + (alpha[5]*(s**3)))])\n",
    "t.add_row([ \"\",\"\"])\n",
    "t.add_row([ \"Conductances \",\"\"])\n",
    "t.add_row([ \"NTD Glue\" ,'%.2E' % Decimal(k[0]*(s**beta[0]))])\n",
    "t.add_row([ \"EP Coupling\",'%.2E' % Decimal(k[1]*(s**beta[1]))])\n",
    "t.add_row([ \"NTD Gold\",'%.2E' % Decimal(k[2]*(s**beta[2]))])\n",
    "t.add_row([ \"Heater Glue\",'%.2E' % Decimal(k[3]*(s**beta[3]))])\n",
    "t.add_row([ \"Heater Gold\",'%.2E' % Decimal(k[4]*(s**beta[4]))])\n",
    "t.add_row([ \"Crystal-Teflon\",'%.2E' % Decimal(k[5]*(s**beta[5]))])\n",
    "t.add_row([ \"Teflon-Sink\",'%.2E' % Decimal(k[6]*(s**beta[6]))])\n",
    "t.align = \"r\"\n",
    "print t"
   ]
  },
  {
   "cell_type": "markdown",
   "metadata": {},
   "source": [
    "### Crystal Event"
   ]
  },
  {
   "cell_type": "code",
   "execution_count": null,
   "metadata": {
    "collapsed": true
   },
   "outputs": [],
   "source": [
    "import math\n",
    "import pandas as pd\n",
    "import numpy as np\n",
    "import matplotlib\n",
    "import matplotlib.pyplot as plt\n",
    "from matplotlib.pylab import *\n",
    "\n",
    "from eventGenerator import *\n",
    "\n",
    "f=\"data/outputcrystal.csv\"\n",
    "\n",
    "crystalEventArray = pd.read_csv(f, sep = ',' ).as_matrix()\n",
    "t = linspace(0,5,crystalEventArray.shape[0])\n",
    "plotElectron, = plt.plot(t,crystalEventArray[:boundary,1],label='Electron Temp')\n",
    "#plotPhonon, = plt.plot(t,crystalEventArray[:boundary,0],label='Phonon Temp')\n",
    "#plotCrystal, = plt.plot(t,crystalEventArray[:boundary,3],label='Crystal Temp')\n",
    "#plotHeater, = plt.plot(t,crystalEventArray[:boundary,2],label='Heater Temp')\n",
    "#plotTeflon, = plt.plot(t,crystalEventArray[:boundary,4],label='Teflon Temp')\n",
    "#plt.legend(handles=[plotElectron,plotPhonon,plotCrystal,plotHeater,plotTeflon])\n",
    "plt.xlabel('Time (s)')\n",
    "plt.ylabel('Temperature (K)')\n",
    "plt.title('Crystal Event Pulse')\n",
    "plt.ticklabel_format(style='sci', axis='y', scilimits=(0,0))\n",
    "crystalFig = plt.gcf()\n",
    "crystalFig.set_size_inches(6,4)\n",
    "crystalFig.savefig('crystal_event.png',dpi=150)\n",
    "amplitude = np.amax(crystalEventArray[:,1])-s\n",
    "maxTemp = np.argmax(crystalEventArray[:,1])\n",
    "riseTime =  (1000 * stepSize)*len(zip(*np.where(np.logical_and((crystalEventArray[:maxTemp,1]-s)>=0.1*(amplitude),(crystalEventArray[:maxTemp,1]-s)<=0.9*(amplitude)))))\n",
    "decayTime =  (1000 * stepSize)*len(zip(*np.where(np.logical_and((crystalEventArray[maxTemp:,1]-s)>=0.3*(amplitude),(crystalEventArray[maxTemp:,1]-s)<=0.9*(amplitude)))))\n",
    "\n",
    "print \"Amplitude: \" + str(amplitude) + ' K'\n",
    "print \"Rise Time: \" + str(riseTime) + 's'\n",
    "print \"Decay Time: \" + str(decayTime) + 's'\n"
   ]
  },
  {
   "cell_type": "markdown",
   "metadata": {},
   "source": [
    "### NTD Event"
   ]
  },
  {
   "cell_type": "code",
   "execution_count": null,
   "metadata": {
    "collapsed": true
   },
   "outputs": [],
   "source": [
    "ntdEventArray = getTemps(\"ntd\")"
   ]
  },
  {
   "cell_type": "code",
   "execution_count": null,
   "metadata": {
    "collapsed": true,
    "scrolled": false
   },
   "outputs": [],
   "source": [
    "boundary = int(0.1*timeSteps)\n",
    "t = linspace(0,boundary*stepSize,boundary)\n",
    "plotElectron, = plt.plot(t,ntdEventArray[:boundary,1],label='Electron Temp')\n",
    "#plotPhonon, = plt.plot(t,ntdEventArray[:boundary,0],label='Phonon Temp')\n",
    "#plotCrystal, = plt.plot(t,ntdEventArray[:boundary,3],label='Crystal Temp')\n",
    "#plotHeater, = plt.plot(t,ntdEventArray[:boundary,2],label='Heater Temp')\n",
    "#plotTeflon, = plt.plot(t,ntdEventArray[:boundary,4],label='Teflon Temp')\n",
    "#plt.legend(handles=[plotElectron,plotPhonon,plotCrystal,plotHeater,plotTeflon])\n",
    "plt.xlabel('Time (ms)')\n",
    "plt.ylabel('Temperature (K)')\n",
    "plt.title('NTD Event Pulse')\n",
    "plt.ticklabel_format(style='sci', axis='y', scilimits=(0,0))\n",
    "#ntdFig = plt.gcf()\n",
    "#ntdFig.set_size_inches(6,4)\n",
    "#ntdFig.savefig('ntd_event_all.png',dpi=150)\n",
    "amplitude = np.amax(ntdEventArray[:,1])-s\n",
    "maxTemp = np.argmax(ntdEventArray[:,1])\n",
    "riseTime =  (1000 * stepSize)*len(zip(*np.where(np.logical_and((ntdEventArray[:maxTemp,1]-s)>=0.1*(amplitude),(ntdEventArray[:maxTemp,1]-s)<=0.9*(amplitude)))))\n",
    "decayTime =  (1000 * stepSize)*len(zip(*np.where(np.logical_and((ntdEventArray[maxTemp:,1]-s)>=0.3*(amplitude),(ntdEventArray[maxTemp:,1]-s)<=0.9*(amplitude)))))\n",
    "\n",
    "print \"Amplitude: \" + str(amplitude) + ' K' \n",
    "print \"Rise Time: \" + str(riseTime) + ' ms'\n",
    "print \"Decay Time: \" + str(decayTime) + ' ms'"
   ]
  },
  {
   "cell_type": "markdown",
   "metadata": {
    "collapsed": true
   },
   "source": [
    "# Appendix"
   ]
  },
  {
   "cell_type": "code",
   "execution_count": null,
   "metadata": {
    "collapsed": true
   },
   "outputs": [],
   "source": [
    "# euler method in 6 dimensions\n",
    "def euler(a, b, c, d, e, f, fa, fb, fc, fd, fe, ff, hs):\n",
    "\ta1 = fa(a, b, c, d, e, f)*hs\n",
    "\tb1 = fb(a, b, c, d, e, f)*hs\n",
    "\tc1 = fc(a, b, c, d, e, f)*hs\n",
    "\td1 = fd(a, b, c, d, e, f)*hs\n",
    "\te1 = fe(a, b, c, d, e, f)*hs\n",
    "\tf1 = ff(a, b, c, d, e, f)*hs\n",
    "\t#print 'diff'\n",
    "\t#print a1,b1,c1,d1,e1,f1\n",
    "\ta = a + a1\n",
    "\tb = b + b1\n",
    "\tc = c + c1\n",
    "\td = d + d1\n",
    "\te = e + e1\n",
    "\tf = f + f1\n",
    "\t#print 'actual'\n",
    "\t#print a,b,c,d,e,f\n",
    "\treturn a,b,c,d,e,f"
   ]
  },
  {
   "cell_type": "code",
   "execution_count": null,
   "metadata": {
    "collapsed": true
   },
   "outputs": [],
   "source": []
  }
 ],
 "metadata": {
  "kernelspec": {
   "display_name": "Python 2",
   "language": "python",
   "name": "python2"
  },
  "language_info": {
   "codemirror_mode": {
    "name": "ipython",
    "version": 2
   },
   "file_extension": ".py",
   "mimetype": "text/x-python",
   "name": "python",
   "nbconvert_exporter": "python",
   "pygments_lexer": "ipython2",
   "version": "2.7.12"
  }
 },
 "nbformat": 4,
 "nbformat_minor": 2
}
