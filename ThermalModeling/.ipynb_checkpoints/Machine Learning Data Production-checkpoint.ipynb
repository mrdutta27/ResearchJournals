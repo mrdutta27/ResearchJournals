{
 "cells": [
  {
   "cell_type": "code",
   "execution_count": 1,
   "metadata": {},
   "outputs": [],
   "source": [
    "from pymongo import MongoClient\n",
    "client = MongoClient('localhost', 27017)\n",
    "db = client.cuore_thermalmodeldata\n",
    "\n",
    "import numpy as np\n",
    "%matplotlib inline\n",
    "import matplotlib\n",
    "import matplotlib.pyplot as plt\n",
    "from matplotlib.pylab import *\n",
    "\n",
    "from eventGenerator import *"
   ]
  },
  {
   "cell_type": "code",
   "execution_count": null,
   "metadata": {},
   "outputs": [],
   "source": [
    "#define constants\n",
    "\n",
    "testNumber = 1;\n",
    "\n",
    "alpha = [2.7e-8,9.9e-9,1e-11,9.14e3,4.28e-7,0]\n",
    "beta = [3,4.37,2.4,3,2.4,2,1]\n",
    "k = [2.34e-3,1.4,3.2e-5,1.3e-3,3.2e-5,2.5e-5,4e-7]\n",
    "\n",
    "R0 = 3.2\n",
    "s = .015\n",
    "Rl = 6e10\n",
    "T0 = 5.2\n",
    "gamma = 0.5\n",
    "Vb = 5\n",
    "Cp = 5e-10\n",
    "\n",
    "for i in range(1,num):\n",
    "    T0 = np.random.normal(5.6, 0.3)\n",
    "    R0 = np.random.normal(3, 0.5)\n",
    "    result = db.testdata.insert_one(getTemps(testNumber, 'crystal', alpha, beta, k, s, R0, Rl, T0, gamma, Vb, Cp))\n",
    "    print result.inserted_id"
   ]
  },
  {
   "cell_type": "code",
   "execution_count": null,
   "metadata": {},
   "outputs": [],
   "source": [
    "#define constants\n",
    "\n",
    "testNumber = 2;\n",
    "\n",
    "alpha = [2.7e-8,9.9e-9,1e-11,9.14e3,4.28e-7,0]\n",
    "beta = [3,4.37,2.4,3,2.4,2,1]\n",
    "k = [2.34e-3,1.4,3.2e-5,1.3e-3,3.2e-5,2.5e-5,4e-7]\n",
    "\n",
    "R0 = 3.2\n",
    "s = .015\n",
    "Rl = 6e10\n",
    "T0 = 5.2\n",
    "gamma = 0.5\n",
    "Vb = 5\n",
    "Cp = 5e-10\n",
    "\n",
    "num = 10\n",
    "for t in [0.014,0.0145,0.015,0.0155,0.016]:\n",
    "    for i in range(1,num):\n",
    "        T0 = np.random.normal(5.6, 0.3)\n",
    "        R0 = np.random.normal(3, 0.5)\n",
    "        result = db.testdata.insert_one(getTemps(testNumber, 'crystal', alpha, beta, k, t, R0, Rl, T0, gamma, Vb, Cp))\n",
    "        print result.inserted_id"
   ]
  },
  {
   "cell_type": "code",
   "execution_count": null,
   "metadata": {},
   "outputs": [],
   "source": [
    "#define constants\n",
    "\n",
    "testNumber = 3;\n",
    "\n",
    "alpha = [2.7e-8,9.9e-9,1e-11,9.14e3,4.28e-7,0]\n",
    "beta = [3,4.37,2.4,3,2.4,2,1]\n",
    "k = [2.34e-3,1.4,3.2e-5,1.3e-3,3.2e-5,2.5e-5,4e-7]\n",
    "\n",
    "R0 = 3.2\n",
    "s = .015\n",
    "Rl = 6e10\n",
    "T0 = 5.2\n",
    "gamma = 0.5\n",
    "Vb = 5\n",
    "Cp = 5e-10\n",
    "\n",
    "def arrayGrid(array,prop):\n",
    "    return np.random.uniform(np.multiply(array,(1-prop)), np.multiply(array,(1+prop)))\n",
    "\n",
    "num = 50\n",
    "for i in range(1,num):\n",
    "    for b in range (1,30):\n",
    "        T0 = np.random.normal(5.6, 0.3)\n",
    "        R0 = np.random.normal(3, 0.5)\n",
    "        prop = 0.1\n",
    "        alpha = arrayGrid(alpha,prop)\n",
    "        beta = arrayGrid(beta,prop)\n",
    "        k = arrayGrid(k,prop)\n",
    "        dataObject = getTemps(alpha, beta, k, s, R0, Rl, T0, gamma, b, Cp)\n",
    "        try:\n",
    "            result = db.loadcurve.insert_one(dataObject)\n",
    "            print result\n",
    "        except:\n",
    "            print 'sim failed'"
   ]
  },
  {
   "cell_type": "code",
   "execution_count": null,
   "metadata": {},
   "outputs": [],
   "source": []
  }
 ],
 "metadata": {
  "kernelspec": {
   "display_name": "Python 2",
   "language": "python",
   "name": "python2"
  },
  "language_info": {
   "codemirror_mode": {
    "name": "ipython",
    "version": 2
   },
   "file_extension": ".py",
   "mimetype": "text/x-python",
   "name": "python",
   "nbconvert_exporter": "python",
   "pygments_lexer": "ipython2",
   "version": "2.7.14"
  }
 },
 "nbformat": 4,
 "nbformat_minor": 2
}
