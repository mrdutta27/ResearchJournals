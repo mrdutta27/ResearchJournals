{
 "cells": [
  {
   "cell_type": "markdown",
   "metadata": {},
   "source": [
    "# Thermal Modeling"
   ]
  },
  {
   "cell_type": "markdown",
   "metadata": {},
   "source": [
    "#### Surya Dutta | Summer 2017"
   ]
  },
  {
   "cell_type": "markdown",
   "metadata": {},
   "source": [
    "## Thermal Model"
   ]
  },
  {
   "cell_type": "markdown",
   "metadata": {},
   "source": [
    "<img src=\"images/thermalmodel.png\" alt=\"Thermal Model\" style=\"width: 500px;\"/>"
   ]
  },
  {
   "cell_type": "markdown",
   "metadata": {},
   "source": [
    "### Temperature-Independent Power Conservation Equations: NTD Event"
   ]
  },
  {
   "cell_type": "markdown",
   "metadata": {},
   "source": [
    "$\\textrm{Phonon: } C_{\\textrm{Phonon}} \\frac{dT_{\\textrm{Phonon}}}{dt} + K_{\\textrm{NTD Gold Wire}}(T_{\\textrm{Phonon}}-T_{\\textrm{Sink}}) - K_{\\textrm{NTD Glue}} (T_{\\textrm{TeO}_2} - T_{\\textrm{Phonon}}) - K_{\\textrm{E-P Coupling}} (T_{\\textrm{Electron}} - T_{\\textrm{Phonon}}) = P_{\\textrm{NTD Event}}$"
   ]
  },
  {
   "cell_type": "markdown",
   "metadata": {},
   "source": [
    "$\\textrm{Electron: }C_{\\textrm{Electron}} \\frac{dT_{\\textrm{Electron}}}{dt}- P_{\\textrm{Electrical Power}} + K_{\\textrm{E-P Coupling}} (T_{\\textrm{Electron}} - T_{\\textrm{Phonon}})=0$"
   ]
  },
  {
   "cell_type": "markdown",
   "metadata": {},
   "source": [
    "$\\textrm{Heater: }C_{\\textrm{Heater}} \\frac{dT_{\\textrm{Heater}}}{dt}+K_{\\textrm{Heater Gold Wire}}(T_{\\textrm{Heater}}-T_{\\textrm{Sink}})- K_{\\textrm{Heater Glue}} (T_{\\textrm{TeO}_2} - T_{\\textrm{Heater}}) = 0$"
   ]
  },
  {
   "cell_type": "markdown",
   "metadata": {},
   "source": [
    "$\\textrm{Crystal: } C_{\\textrm{Crystal}} \\frac{dT_{\\textrm{Crystal}}}{dt} + K_{\\textrm{Heater Glue}}(T_{\\textrm{TeO}_2}-T_{\\textrm{Heater}}) + K_{\\textrm{NTD Glue}} (T_{\\textrm{TeO}_2} - T_{\\textrm{NTD Phonon}})+ K_{\\textrm{TeO}_2 \\leftrightarrow \\textrm{Teflon}} (T_{\\textrm{TeO}_2} - T_{\\textrm{Teflon}})=0$"
   ]
  },
  {
   "cell_type": "markdown",
   "metadata": {},
   "source": [
    "$\\textrm{Teflon: } C_{\\textrm{Teflon}} \\frac{dT_{\\textrm{Teflon}}}{dt} + K_{\\textrm{Teflon} \\leftrightarrow \\textrm{Sink}}(T_{\\textrm{Teflon}}-T_{\\textrm{Sink}}) - K_{\\textrm{TeO}_2 \\leftrightarrow \\textrm{Teflon}} (T_{\\textrm{TeO}_2} - T_{\\textrm{Teflon}}) = 0$"
   ]
  },
  {
   "cell_type": "markdown",
   "metadata": {},
   "source": [
    "### Adding Temperature Dependence"
   ]
  },
  {
   "cell_type": "markdown",
   "metadata": {},
   "source": [
    "#### Conductance"
   ]
  },
  {
   "cell_type": "markdown",
   "metadata": {},
   "source": [
    "Conductance (K) is related to temperature by a power law relation: $K(T) = K_0T^\\beta$. It can also be written as the time derivative of power $\\frac{dP}{dt}$, such that we can express power as $P(T)=\\int^{T_2}_{T_1} K(T') dT'$, where $T_s$ is the temperature of the heat sink. Using this, we can integrate the equation to get &nbsp; \n",
    "\n",
    "$$({T_2}^{\\beta+1}-{T_1}^{\\beta+1}) = \\frac{\\beta+1}{K_0} P(T)$$\n",
    "\n",
    "where $K_0$ is the capacitance of the material at $T = 1\\textrm{K}$."
   ]
  },
  {
   "cell_type": "markdown",
   "metadata": {},
   "source": [
    "#### Capacitance"
   ]
  },
  {
   "cell_type": "markdown",
   "metadata": {},
   "source": [
    "Additionally, various heat capacitances also have temperature dependence based on the material. They are as follows:\n",
    "\n",
    "$$C_{\\textrm{Phonon}} = \\alpha T^3 $$\n",
    "$$C_{\\textrm{Electron}} = \\alpha T $$\n",
    "$$C_{\\textrm{Heater}} = \\alpha T $$\n",
    "$$C_{\\textrm{Crystal}} = \\alpha T^3 $$\n",
    "$$C_{\\textrm{Teflon}} = \\alpha_1 T+  \\alpha_2 T^3 $$"
   ]
  },
  {
   "cell_type": "markdown",
   "metadata": {},
   "source": [
    "#### Electrical Feedback"
   ]
  },
  {
   "cell_type": "markdown",
   "metadata": {},
   "source": [
    "<img src=\"images/thermistor_biased.png\" alt=\"circuit\" style=\"width: 600px;\"/>"
   ]
  },
  {
   "cell_type": "markdown",
   "metadata": {},
   "source": [
    "Solving this circuit, we obtain (Vignati):\n",
    "\n",
    "$$ \\left[ \\frac{R_L + R(T)}{R(T)} \\right] V(T) - V_B + R_L c_p \\frac{dV(T)}{dt} = 0 $$\n",
    "\n",
    "The resistance of a thermistor is given by $R(T) = R_0 \\exp\\left(\\frac{T_0}{T}\\right)^\\gamma$. Therefore, we modify equation 2 above and add the differential equation for $V$. "
   ]
  },
  {
   "cell_type": "markdown",
   "metadata": {},
   "source": [
    "#### Putting It All Together"
   ]
  },
  {
   "cell_type": "markdown",
   "metadata": {},
   "source": [
    "$\\textrm{Phonon (a) :  } P_{\\textrm{NTD Event}} =  \\alpha_a {T_a}^3 \\frac{dT_{a}}{dt}- \\frac{K_{\\textrm{0, NTD Glue}}}{\\beta_1+1}({T_{d}}^{\\beta_1+1} - {T_{a}}^{\\beta_1+1}) - \\frac{K_{\\textrm{0, E-P Coupling}}}{\\beta_2+1} ({T_{b}}^{\\beta_2+1} - {T_{a}}^{\\beta_2+1}) + \\frac{K_{\\textrm{0, NTD Gold Wire}}}{\\beta_3+1}({T_{a}}^{\\beta_3+1}-{T_{s}}^{\\beta_3+1})$"
   ]
  },
  {
   "cell_type": "markdown",
   "metadata": {},
   "source": [
    "$\\textrm{Electron (b) : }0=\\alpha_b T_b \\frac{dT_{b}}{dt}- \\frac{{V(T)}^2 - {V_0(T)}^2}{R_0 \\exp\\left(\\frac{T_0}{T}\\right)^\\gamma} + \\frac{K_{\\textrm{0, E-P Coupling}}}{\\beta_2+1} ({T_{b}}^{\\beta_2+1} - {T_{a}}^{\\beta_2+1})$"
   ]
  },
  {
   "cell_type": "markdown",
   "metadata": {},
   "source": [
    "$\\textrm{Heater (c) : }0=\\alpha_c T_c \\frac{dT_{c}}{dt}-\\frac{K_{\\textrm{0, Heater Glue}}}{\\beta_4+1} ({T_{d}}^{\\beta_4+1} - {T_{c}}^{\\beta_4+1}) +\\frac{K_{\\textrm{0, Heater Gold Wire}}}{\\beta_5+1}({T_{c}}^{\\beta_5+1}-{T_{s}}^{\\beta_5+1})$"
   ]
  },
  {
   "cell_type": "markdown",
   "metadata": {},
   "source": [
    "$\\textrm{Crystal (d) : }P_{\\textrm{Crystal}} = \\alpha_d {T_d}^3 \\frac{dT_{d}}{dt} + \\frac{K_{\\textrm{0, NTD Glue}}}{\\beta_1+1} ({T_{d}}^{\\beta_1+1} - {T_{a}}^{\\beta_1+1}) + \\frac{K_{\\textrm{0, Heater Glue}}}{\\beta_4+1}({T_{d}}^{\\beta_4+1}-{T_{c}}^{\\beta_4+1}) + \\frac{K_{\\textrm{0, TeO}_2 \\leftrightarrow \\textrm{Teflon}}}{\\beta_6 +1} ({T_{d}}^{\\beta_6 +1} - {T_{e}}^{\\beta_6 +1})$"
   ]
  },
  {
   "cell_type": "markdown",
   "metadata": {},
   "source": [
    "$\\textrm{Teflon (e) : } 0 = (\\alpha_{e1}T_e+\\alpha_{e2}{T_e}^3) \\frac{dT_{e}}{dt}- \\frac{K_{\\textrm{0, TeO}_2 \\leftrightarrow \\textrm{Teflon}}}{\\beta_6+1} ({T_{d}}^{\\beta_6+1} - {T_{e}}^{\\beta_6+1})  + \\frac{K_{\\textrm{0, Teflon} \\leftrightarrow \\textrm{Sink}}}{\\beta_7+1}({T_{e}}^{\\beta_7+1}-{T_{s}}^{\\beta_7+1})$"
   ]
  },
  {
   "cell_type": "markdown",
   "metadata": {},
   "source": [
    "$\\textrm{Feedback V (f) : }0=\\left[\\frac{R_L + R_0 \\exp\\left(\\frac{T_0}{T}\\right)^\\gamma}{R_0 \\exp\\left(\\frac{T_0}{T}\\right)^\\gamma} \\right] V(T) - V_B + R_L c_p \\frac{dV(T)}{dt}$"
   ]
  },
  {
   "cell_type": "markdown",
   "metadata": {},
   "source": [
    "## Solving equations with Fourth Order Runge-Kutta Method"
   ]
  },
  {
   "cell_type": "markdown",
   "metadata": {},
   "source": [
    "Code to generate events can be found [here](../edit/eventGenerator.py)"
   ]
  },
  {
   "cell_type": "code",
   "execution_count": 11,
   "metadata": {},
   "outputs": [],
   "source": [
    "from eventGenerator import *"
   ]
  },
  {
   "cell_type": "code",
   "execution_count": null,
   "metadata": {},
   "outputs": [
    {
     "name": "stdout",
     "output_type": "stream",
     "text": [
      "+-------------+----------+\n",
      "|        Name |    Value |\n",
      "+-------------+----------+\n",
      "| Temperature | 1.50E-02 |\n",
      "|          T0 | 5.20E+00 |\n",
      "|          R0 | 3.20E+00 |\n",
      "+-------------+----------+\n",
      "Crystal Event\n",
      "21.02% | (00:02|03:52)\r"
     ]
    }
   ],
   "source": [
    "alpha = [2.7e-8,9.9e-9,1e-11,9.14e3,4.28e-7,0]\n",
    "beta = [3,4.37,2.4,3,2.4,2,1]\n",
    "k = [2.34e-3,1.4,3.2e-5,1.3e-3,3.2e-5,2.5e-5,4e-7]\n",
    "\n",
    "R0 = 3.2\n",
    "s = .015\n",
    "Rl = 6e10\n",
    "T0 = 5.2\n",
    "gamma = 0.5\n",
    "Vb = 5\n",
    "Cp = 5e-10\n",
    "\n",
    "data_arrays=getTemps(1, 'crystal', alpha, beta, k, s, R0, Rl, T0, gamma, Vb, Cp)"
   ]
  },
  {
   "cell_type": "code",
   "execution_count": 10,
   "metadata": {},
   "outputs": [
    {
     "data": {
      "text/plain": [
       "[<matplotlib.lines.Line2D at 0x7f0ca9a21490>]"
      ]
     },
     "execution_count": 10,
     "metadata": {},
     "output_type": "execute_result"
    },
    {
     "data": {
      "image/png": "[encoded data removed]",
      "text/plain": [
       "<matplotlib.figure.Figure at 0x7f0ca9a9c110>"
      ]
     },
     "metadata": {},
     "output_type": "display_data"
    }
   ],
   "source": [
    "%matplotlib inline\n",
    "import matplotlib\n",
    "import matplotlib.pyplot as plt\n",
    "from matplotlib.pylab import *\n",
    "\n",
    "plt.plot(data_arrays[0])"
   ]
  },
  {
   "cell_type": "markdown",
   "metadata": {},
   "source": [
    "### Crystal Event"
   ]
  },
  {
   "cell_type": "code",
   "execution_count": 2,
   "metadata": {
    "scrolled": true
   },
   "outputs": [
    {
     "ename": "NameError",
     "evalue": "name 'getTemps' is not defined",
     "output_type": "error",
     "traceback": [
      "\u001b[0;31m---------------------------------------------------------------------------\u001b[0m",
      "\u001b[0;31mNameError\u001b[0m                                 Traceback (most recent call last)",
      "\u001b[0;32m<ipython-input-2-249a56384086>\u001b[0m in \u001b[0;36m<module>\u001b[0;34m()\u001b[0m\n\u001b[0;32m----> 1\u001b[0;31m \u001b[0mgetTemps\u001b[0m\u001b[0;34m(\u001b[0m\u001b[0;34m'crystal'\u001b[0m\u001b[0;34m)\u001b[0m\u001b[0;34m\u001b[0m\u001b[0m\n\u001b[0m",
      "\u001b[0;31mNameError\u001b[0m: name 'getTemps' is not defined"
     ]
    }
   ],
   "source": [
    "getTemps('crystal')"
   ]
  },
  {
   "cell_type": "code",
   "execution_count": 3,
   "metadata": {},
   "outputs": [
    {
     "data": {
      "image/png": "[encoded data removed]",
      "text/plain": [
       "<matplotlib.figure.Figure at 0x7f22f88c1210>"
      ]
     },
     "metadata": {},
     "output_type": "display_data"
    }
   ],
   "source": [
    "import math\n",
    "import pandas as pd\n",
    "import numpy as np\n",
    "%matplotlib inline\n",
    "import matplotlib\n",
    "import matplotlib.pyplot as plt\n",
    "from matplotlib.pylab import *\n",
    "import scipy\n",
    "from scipy import signal\n",
    "\n",
    "sampling = 8\n",
    "dur = 1e-3\n",
    "\n",
    "#import simulated pulse\n",
    "f=\"data/outputcrystal.csv\"\n",
    "crystalEventArray = np.genfromtxt(f, delimiter=',')\n",
    "crystalEventArray = crystalEventArray[2::sampling,:]\n",
    "\n",
    "#apply bessel filters to simulated pulse\n",
    "def bessel_lowpass(cutoff, fs, order):\n",
    "    nyq = 0.5 * fs\n",
    "    normal_cutoff = cutoff / nyq\n",
    "    b, a = signal.bessel(order, normal_cutoff, btype='low', analog=False)\n",
    "    return b, a\n",
    "\n",
    "def bessel_lowpass_filter(data, cutoff, fs, order):\n",
    "    b, a = bessel_lowpass(cutoff, fs, order)\n",
    "    y = signal.filtfilt(b, a, data)\n",
    "    return y\n",
    "\n",
    "cutoff = 24\n",
    "samplingRate = 1.0/(sampling*dur)\n",
    "order = 6\n",
    "\n",
    "#set up arrays and apply bessel filter\n",
    "c_timeArray = crystalEventArray[:,0]\n",
    "c_phononPulseArray = bessel_lowpass_filter(crystalEventArray[:,1],cutoff,samplingRate,order)\n",
    "c_electronPulseArray = bessel_lowpass_filter(crystalEventArray[:,2],cutoff,samplingRate,order)\n",
    "c_heaterPulseArray = bessel_lowpass_filter(crystalEventArray[:,3],cutoff,samplingRate,order)\n",
    "c_crystalPulseArray = bessel_lowpass_filter(crystalEventArray[:,4],cutoff,samplingRate,order)\n",
    "c_teflonPulseArray = bessel_lowpass_filter(crystalEventArray[:,5],cutoff,samplingRate,order)\n",
    "\n",
    "#setup pulse parameters\n",
    "t = linspace(0,5,int((5000/sampling)))\n",
    "fig1 = plt.figure(0)\n",
    "\n",
    "start = 0\n",
    "end = 615\n",
    "\n",
    "#plotPhonon, = plt.plot(t,phononPulseArray,label='Phonon Temp')\n",
    "#plotCrystal, = plt.plot(t,crystalPulseArray,label='Crystal Temp')\n",
    "#plotHeater, = plt.plot(t,heaterPulseArray,label='Heater Temp')\n",
    "#plotTeflon, = plt.plot(t[start:end],teflonPulseArray[start:end],label='Teflon Temp')\n",
    "#plotElectron, = plt.plot(t[start:end],c_electronPulseArray[start:end],label='NTD Temperature')\n",
    "plotVoltage = plt.plot(crystalEventArray[:,6])\n",
    "\n",
    "plt.ylabel('Temperature (K)')\n",
    "plt.title('Crystal Event Pulse')\n",
    "\n",
    "crystalFig = plt.gcf()\n",
    "crystalFig.set_size_inches(6,4)\n",
    "crystalFig.savefig('images/crystal_event.png',dpi=300, bbox_inches='tight', pad_inches=0)"
   ]
  },
  {
   "cell_type": "code",
   "execution_count": 4,
   "metadata": {},
   "outputs": [
    {
     "data": {
      "text/plain": [
       "[<matplotlib.lines.Line2D at 0x7f22ef51d890>]"
      ]
     },
     "execution_count": 4,
     "metadata": {},
     "output_type": "execute_result"
    },
    {
     "data": {
      "image/png": "[encoded data removed]",
      "text/plain": [
       "<matplotlib.figure.Figure at 0x7f232405ee50>"
      ]
     },
     "metadata": {},
     "output_type": "display_data"
    }
   ],
   "source": [
    "v = -1*crystalEventArray[125:,6]\n",
    "r = 3.2*np.exp(np.power(5.2/crystalEventArray[125:,2],(0.5)))\n",
    "\n",
    "i = v/r\n",
    "\n",
    "plot(v,i)"
   ]
  },
  {
   "cell_type": "code",
   "execution_count": null,
   "metadata": {},
   "outputs": [],
   "source": []
  },
  {
   "cell_type": "code",
   "execution_count": null,
   "metadata": {},
   "outputs": [],
   "source": []
  }
 ],
 "metadata": {
  "kernelspec": {
   "display_name": "Python 2",
   "language": "python",
   "name": "python2"
  },
  "language_info": {
   "codemirror_mode": {
    "name": "ipython",
    "version": 2
   },
   "file_extension": ".py",
   "mimetype": "text/x-python",
   "name": "python",
   "nbconvert_exporter": "python",
   "pygments_lexer": "ipython2",
   "version": "2.7.14"
  }
 },
 "nbformat": 4,
 "nbformat_minor": 2
}
